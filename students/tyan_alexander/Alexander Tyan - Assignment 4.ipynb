{
 "cells": [
  {
   "cell_type": "markdown",
   "metadata": {},
   "source": [
    "# Alexander Tyan - Assignment 4"
   ]
  },
  {
   "cell_type": "code",
   "execution_count": 6,
   "metadata": {
    "collapsed": true
   },
   "outputs": [],
   "source": [
    "import numpy as np\n",
    "import matplotlib.pyplot as plt"
   ]
  },
  {
   "cell_type": "code",
   "execution_count": 52,
   "metadata": {
    "collapsed": true
   },
   "outputs": [],
   "source": [
    "def annual_income_simulation(param_dict):\n",
    "    mu = param_dict['mu']  # Mean\n",
    "    sigma = param_dict['sigma']  # Standard deviation\n",
    "    rho = param_dict['rho']  # Persistence\n",
    "    g = param_dict['g']  # Long-run growth rate of income\n",
    "    inc_0 = param_dict['inc_0']  # Average starting income\n",
    "    t_start = param_dict['t_start']  # Start-year of work\n",
    "    t_end = param_dict['t_end']  # End-year of work\n",
    "    num_draws = param_dict['num_draws']  # Number of draws\n",
    "\n",
    "    # Years to work; (t_end + 1) to include last year.\n",
    "    years_to_work = (t_end + 1) - t_start\n",
    "\n",
    "    # Set random seed:\n",
    "    np.random.seed(524)\n",
    "\n",
    "    # Generate num_draws error draws from the normal distribution:\n",
    "    errors = np.random.normal(mu, sigma, (years_to_work, num_draws))\n",
    "\n",
    "    # Create a placeholder matrix. Each row - a single year of work.\n",
    "    # Each column, result of each simulation for that year.:\n",
    "    ln_lifetime_income_matrix = np.zeros((years_to_work, num_draws))\n",
    "\n",
    "    # Natural log of the annual income in start year (2019),\n",
    "    # fill the 0th row :\n",
    "    ln_lifetime_income_matrix[0, :] = np.log(inc_0) + errors[0, :]\n",
    "\n",
    "    # Fill the rows 1 to 39:\n",
    "    for year in range(1, years_to_work):\n",
    "        ln_lifetime_income_matrix[year, :] = (1 - rho) * \\\n",
    "                                 (np.log(inc_0) + g * year) + \\\n",
    "                                 rho * (ln_lifetime_income_matrix[year - 1, :]) + \\\n",
    "                                 errors[year, :]\n",
    "\n",
    "    # Bring back normal dollars:\n",
    "    return np.exp(ln_lifetime_income_matrix)"
   ]
  },
  {
   "cell_type": "markdown",
   "metadata": {},
   "source": [
    "## Task 1:"
   ]
  },
  {
   "cell_type": "markdown",
   "metadata": {},
   "source": [
    "### Simulate 10,000 different realizations of your lifetime income:"
   ]
  },
  {
   "cell_type": "code",
   "execution_count": 53,
   "metadata": {
    "collapsed": true
   },
   "outputs": [],
   "source": [
    "param_dict = {'mu': 0,\n",
    "              'sigma': 0.1,\n",
    "              'rho': 0.2,\n",
    "              'g': 0.03,\n",
    "              'inc_0': 80000,\n",
    "              't_start': 2019,\n",
    "              't_end': 2058,\n",
    "              'num_draws': 10000}"
   ]
  },
  {
   "cell_type": "code",
   "execution_count": 54,
   "metadata": {
    "collapsed": true
   },
   "outputs": [],
   "source": [
    "results = annual_income_simulation(param_dict=param_dict)"
   ]
  },
  {
   "cell_type": "markdown",
   "metadata": {},
   "source": [
    "### Plot one of the lifetime income paths:"
   ]
  },
  {
   "cell_type": "code",
   "execution_count": 55,
   "metadata": {},
   "outputs": [
    {
     "data": {
      "text/plain": [
       "Text(0,0.5,'Annual Income (\\\\$s)')"
      ]
     },
     "execution_count": 55,
     "metadata": {},
     "output_type": "execute_result"
    },
    {
     "data": {
      "image/png": "[encoded data removed]",
      "text/plain": [
       "<matplotlib.figure.Figure at 0x115922828>"
      ]
     },
     "metadata": {},
     "output_type": "display_data"
    }
   ],
   "source": [
    "%matplotlib inline\n",
    "years_to_work = (param_dict['t_end'] + 1) - param_dict['t_start']\n",
    "year_vec = np.arange(param_dict['t_start'], param_dict['t_start'] +\n",
    "                     years_to_work)\n",
    "individual = 500\n",
    "fig, ax = plt.subplots()\n",
    "plt.plot(year_vec, results[:, individual])\n",
    "minorLocator = plt.MultipleLocator(1)\n",
    "ax.xaxis.set_minor_locator(minorLocator)\n",
    "plt.grid(b=True, which='major', color='0.65', linestyle='-')\n",
    "plt.title('Simulated Individual Income: id = 500', fontsize=20)\n",
    "plt.xlabel(r'Year $t$')\n",
    "plt.ylabel(r'Annual Income (\\$s)')"
   ]
  },
  {
   "cell_type": "markdown",
   "metadata": {},
   "source": [
    "## Task 2:"
   ]
  },
  {
   "cell_type": "markdown",
   "metadata": {},
   "source": [
    "### Plot a histogram with 50 bins of year t = 2019 initial income for each of the 10,000 simulations:"
   ]
  },
  {
   "cell_type": "code",
   "execution_count": 56,
   "metadata": {},
   "outputs": [
    {
     "data": {
      "image/png": "[encoded data removed]",
      "text/plain": [
       "<matplotlib.figure.Figure at 0x115ad6ac8>"
      ]
     },
     "metadata": {},
     "output_type": "display_data"
    }
   ],
   "source": [
    "%matplotlib inline\n",
    "x = results[0]\n",
    "\n",
    "plt.title('Historgram of Individual Incomes', fontsize=20)\n",
    "plt.xlabel('Income, $')\n",
    "plt.ylabel('Count of Income Simulations')\n",
    "plt.grid(b=True, which='major', color='0.65', linestyle='-')\n",
    "plot = plt.hist(x, bins=50, edgecolor='black', linewidth=1)"
   ]
  },
  {
   "cell_type": "markdown",
   "metadata": {},
   "source": [
    "### Is the distribution normally distributed (i.e. symmetric and bell-curved)?"
   ]
  },
  {
   "cell_type": "markdown",
   "metadata": {},
   "source": [
    "#### Yes, approximately symmetric and bell-curved, i.e. normal."
   ]
  },
  {
   "cell_type": "markdown",
   "metadata": {},
   "source": [
    "### What percent of your class will earn more than 100,000 in the first year out of the program? What percent of the class will earn less than 70,000?:"
   ]
  },
  {
   "cell_type": "code",
   "execution_count": 57,
   "metadata": {},
   "outputs": [
    {
     "name": "stdout",
     "output_type": "stream",
     "text": [
      "Percent with more than $100,000 in the first year: 1.27 %\n",
      "Percent with less than $70,000 in the first year: 9.02 %\n"
     ]
    }
   ],
   "source": [
    "more_than_100k = []\n",
    "less_than_70k = []\n",
    "for income in results[0]:\n",
    "    if income > 100000:\n",
    "        more_than_100k.append(income)\n",
    "    if income < 70000:\n",
    "        less_than_70k.append(income)\n",
    "proportion_over_100k = len(more_than_100k)/len(results[0])\n",
    "proportion_under_100k = len(less_than_70k)/len(results[0])\n",
    "\n",
    "print(\"Percent with more than $100,000 in the first year:\", proportion_over_100k * 100, \"%\")\n",
    "print(\"Percent with less than $70,000 in the first year:\", proportion_under_100k * 100, \"%\")"
   ]
  },
  {
   "cell_type": "markdown",
   "metadata": {},
   "source": [
    "#### Percent with more than 100,000 USD in the first year: 1.27 %\n",
    "#### Percent with less than 70,000 USD in the first year: 9.02 %"
   ]
  },
  {
   "cell_type": "markdown",
   "metadata": {
    "collapsed": true
   },
   "source": [
    "## Task 3"
   ]
  },
  {
   "cell_type": "code",
   "execution_count": 58,
   "metadata": {},
   "outputs": [],
   "source": [
    "debt = 95000\n",
    "percent_income_debt_service = 10\n",
    "proportion_income_debt_service = percent_income_debt_service / 100\n",
    "\n",
    "list_all_debt_years = []\n",
    "for simulation_index in range(param_dict['num_draws']):\n",
    "    debt_left_to_pay = debt\n",
    "    number_years_pay_debt = 0\n",
    "    for annual_income in results[:, simulation_index]:\n",
    "        pay_this_year = annual_income * proportion_income_debt_service\n",
    "        debt_left_to_pay = debt_left_to_pay - pay_this_year\n",
    "        number_years_pay_debt += 1\n",
    "        if debt_left_to_pay <= 0:\n",
    "            list_all_debt_years.append(number_years_pay_debt)\n",
    "            break\n",
    "#list_all_debt_years"
   ]
  },
  {
   "cell_type": "markdown",
   "metadata": {
    "collapsed": true
   },
   "source": [
    "### In what percent of the simulations are you able to pay off the  loan in 10 years (on or before t = 2028)?:"
   ]
  },
  {
   "cell_type": "code",
   "execution_count": 60,
   "metadata": {},
   "outputs": [
    {
     "name": "stdout",
     "output_type": "stream",
     "text": [
      "Percent of the simulations that pay off the loan in 10 years: 18.47 %\n"
     ]
    }
   ],
   "source": [
    "threshold_years = 10\n",
    "list_years_satisfy_threshold = []\n",
    "for value in list_all_debt_years:\n",
    "    if value <= threshold_years:\n",
    "        list_years_satisfy_threshold.append(value)\n",
    "proportion_paying_off_well = len(list_years_satisfy_threshold)/len(list_all_debt_years)\n",
    "percent_paying_off_well = proportion_paying_off_well * 100\n",
    "print(\"Percent of the simulations that pay off the loan in 10 years:\",\n",
    "      percent_paying_off_well, \"%\")"
   ]
  },
  {
   "cell_type": "markdown",
   "metadata": {},
   "source": [
    "#### Percent of the simulations that pay off the loan in 10 years: 18.47 %"
   ]
  },
  {
   "cell_type": "markdown",
   "metadata": {},
   "source": [
    "### Plot the histogram of how many years it takes to pay off the loan in each of your 10,000 simulations:"
   ]
  },
  {
   "cell_type": "code",
   "execution_count": 61,
   "metadata": {},
   "outputs": [
    {
     "data": {
      "image/png": "[encoded data removed]",
      "text/plain": [
       "<matplotlib.figure.Figure at 0x118cac588>"
      ]
     },
     "metadata": {},
     "output_type": "display_data"
    }
   ],
   "source": [
    "%matplotlib inline\n",
    "x = list_all_debt_years\n",
    "\n",
    "plt.title('Histogram of Years to Pay Off the Loan', fontsize=20)\n",
    "plt.xlabel('Years')\n",
    "plt.ylabel('Count of Simulations')\n",
    "plt.grid(b=True, which='major', color='0.65', linestyle='-')\n",
    "plot = plt.hist(x, edgecolor='black', linewidth=1)"
   ]
  },
  {
   "cell_type": "markdown",
   "metadata": {},
   "source": [
    "## Task 4"
   ]
  },
  {
   "cell_type": "code",
   "execution_count": 62,
   "metadata": {
    "collapsed": true
   },
   "outputs": [],
   "source": [
    "param_dict_2 = {'mu': 0,\n",
    "              'sigma': 0.15,\n",
    "              'rho': 0.2,\n",
    "              'g': 0.03,\n",
    "              'inc_0': 85000,\n",
    "              't_start': 2019,\n",
    "              't_end': 2058,\n",
    "              'num_draws': 10000}"
   ]
  },
  {
   "cell_type": "code",
   "execution_count": 63,
   "metadata": {
    "collapsed": true
   },
   "outputs": [],
   "source": [
    "results_2 = annual_income_simulation(param_dict=param_dict_2)"
   ]
  },
  {
   "cell_type": "code",
   "execution_count": 64,
   "metadata": {},
   "outputs": [],
   "source": [
    "debt = 95000\n",
    "percent_income_debt_service = 10\n",
    "proportion_income_debt_service = percent_income_debt_service / 100\n",
    "\n",
    "list_all_debt_years_2 = []\n",
    "for simulation_index in range(param_dict_2['num_draws']):\n",
    "    debt_left_to_pay = debt\n",
    "    number_years_pay_debt = 0\n",
    "    for annual_income in results_2[:, simulation_index]:\n",
    "        pay_this_year = annual_income * proportion_income_debt_service\n",
    "        debt_left_to_pay = debt_left_to_pay - pay_this_year\n",
    "        number_years_pay_debt += 1\n",
    "        if debt_left_to_pay <= 0:\n",
    "            list_all_debt_years_2.append(number_years_pay_debt)\n",
    "            break\n",
    "#list_all_debt_years_2"
   ]
  },
  {
   "cell_type": "markdown",
   "metadata": {},
   "source": [
    "### In what percent of the simulations are you able to pay off the loan in 10 years (on or before t = 2028)?:\n"
   ]
  },
  {
   "cell_type": "code",
   "execution_count": 65,
   "metadata": {},
   "outputs": [
    {
     "name": "stdout",
     "output_type": "stream",
     "text": [
      "Percent of the simulations that pay off the loan in 10 years: 70.19999999999999 %\n"
     ]
    }
   ],
   "source": [
    "threshold_years = 10\n",
    "list_years_satisfy_threshold_2 = []\n",
    "for value in list_all_debt_years_2:\n",
    "    if value <= threshold_years:\n",
    "        list_years_satisfy_threshold_2.append(value)\n",
    "proportion_paying_off_well = len(list_years_satisfy_threshold_2)/len(list_all_debt_years_2)\n",
    "percent_paying_off_well = proportion_paying_off_well * 100\n",
    "print(\"Percent of the simulations that pay off the loan in 10 years:\",\n",
    "      percent_paying_off_well, \"%\")"
   ]
  },
  {
   "cell_type": "markdown",
   "metadata": {},
   "source": [
    "#### Percent of the simulations that pay off the loan in 10 years: 70.19999999999999 %"
   ]
  },
  {
   "cell_type": "markdown",
   "metadata": {},
   "source": [
    "### Plot the new histogram of how many years it takes to pay off your loan of 95,000 USD in your new 10,000 simulations with the new standard deviation and the new average initial salary:"
   ]
  },
  {
   "cell_type": "code",
   "execution_count": 67,
   "metadata": {},
   "outputs": [
    {
     "data": {
      "image/png": "[encoded data removed]",
      "text/plain": [
       "<matplotlib.figure.Figure at 0x118e81198>"
      ]
     },
     "metadata": {},
     "output_type": "display_data"
    }
   ],
   "source": [
    "%matplotlib inline\n",
    "x_2 = list_all_debt_years_2\n",
    "\n",
    "plt.title('Histogram of Years to Pay Off the Loan', fontsize=20)\n",
    "plt.xlabel('Years')\n",
    "plt.ylabel('Count of Simulations')\n",
    "plt.grid(b=True, which='major', color='0.65', linestyle='-')\n",
    "plot = plt.hist(x_2, edgecolor='black', linewidth=1)"
   ]
  },
  {
   "cell_type": "code",
   "execution_count": null,
   "metadata": {
    "collapsed": true
   },
   "outputs": [],
   "source": []
  }
 ],
 "metadata": {
  "kernelspec": {
   "display_name": "Python 3",
   "language": "python",
   "name": "python3"
  },
  "language_info": {
   "codemirror_mode": {
    "name": "ipython",
    "version": 3
   },
   "file_extension": ".py",
   "mimetype": "text/x-python",
   "name": "python",
   "nbconvert_exporter": "python",
   "pygments_lexer": "ipython3",
   "version": "3.6.3"
  }
 },
 "nbformat": 4,
 "nbformat_minor": 1
}
