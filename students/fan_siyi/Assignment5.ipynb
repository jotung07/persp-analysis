{
 "cells": [
  {
   "cell_type": "markdown",
   "metadata": {},
   "source": [
    "# Collaboration"
   ]
  },
  {
   "cell_type": "markdown",
   "metadata": {},
   "source": [
    "### Siyi Fan"
   ]
  },
  {
   "cell_type": "markdown",
   "metadata": {},
   "source": [
    "## Part1 Kaggle open call projects"
   ]
  },
  {
   "cell_type": "markdown",
   "metadata": {},
   "source": [
    "### 1. Kaggle Account"
   ]
  },
  {
   "cell_type": "markdown",
   "metadata": {},
   "source": [
    "My account is Siyi. "
   ]
  },
  {
   "cell_type": "markdown",
   "metadata": {},
   "source": [
    "### 2. Kaggle Competition "
   ]
  },
  {
   "cell_type": "markdown",
   "metadata": {},
   "source": [
    "The one that is of interest to me is Titanic: Machine Learning from Disaster. In this challenge, the participants are asked to complete the analysis of what sorts of people were likely to survive by applying the tools of machine learning. The goal of this competition is to predict if a passenger survived the sinking of the Titanic or not. \n",
    "\n",
    "In order to make a submission, I will go to the Data page and download the test dataset. In the test set, I will predict a 0 or 1 value for the Survived variable. The score is the percentage of passengers I correctly predict. After prediction, I will submit this csv file with exactly 418 entries plus a header row on the submission page. Also, the files have two columns. One is Passengerld which is sorted in any order; the other one is Survived which contains binary prediction – 1 for survived and 0 for deceased. "
   ]
  },
  {
   "cell_type": "markdown",
   "metadata": {},
   "source": [
    "### 3. Kaggle Dataset"
   ]
  },
  {
   "cell_type": "markdown",
   "metadata": {},
   "source": [
    "I will explore the dataset on Mental Health in the Tech Workplace, which comes from the survey on Mental Health in the Tech Workplace in 2014. It aims to measure attitudes towards mental health in the tech workplace, and examine the frequency of mental health disorders among tech workers. \n",
    "\n",
    "I will mainly focus on three questions: Do a lot of companies provide help to people with mental health conditions? Are workers likely to reach out for help if they suffer from mental illnesses? Are workers willing to talk about mental illnessess with their employers? But first, I will preview the survey data and acquire demographic information. "
   ]
  },
  {
   "cell_type": "markdown",
   "metadata": {},
   "source": [
    "#### Previewing the survey data"
   ]
  },
  {
   "cell_type": "markdown",
   "metadata": {},
   "source": [
    "There are 63 questions and 1260 survey participants. All questions could be classified into 26 categorizations. "
   ]
  },
  {
   "cell_type": "code",
   "execution_count": 23,
   "metadata": {
    "scrolled": true
   },
   "outputs": [
    {
     "name": "stdout",
     "output_type": "stream",
     "text": [
      "<class 'pandas.core.frame.DataFrame'>\n",
      "RangeIndex: 1259 entries, 0 to 1258\n",
      "Data columns (total 27 columns):\n",
      "Timestamp                    1259 non-null object\n",
      "Age                          1259 non-null int64\n",
      "Gender                       1259 non-null object\n",
      "Country                      1259 non-null object\n",
      "state                        744 non-null object\n",
      "self_employed                1241 non-null object\n",
      "family_history               1259 non-null object\n",
      "treatment                    1259 non-null object\n",
      "work_interfere               995 non-null object\n",
      "no_employees                 1259 non-null object\n",
      "remote_work                  1259 non-null object\n",
      "tech_company                 1259 non-null object\n",
      "benefits                     1259 non-null object\n",
      "care_options                 1259 non-null object\n",
      "wellness_program             1259 non-null object\n",
      "seek_help                    1259 non-null object\n",
      "anonymity                    1259 non-null object\n",
      "leave                        1259 non-null object\n",
      "mental_health_consequence    1259 non-null object\n",
      "phys_health_consequence      1259 non-null object\n",
      "coworkers                    1259 non-null object\n",
      "supervisor                   1259 non-null object\n",
      "mental_health_interview      1259 non-null object\n",
      "phys_health_interview        1259 non-null object\n",
      "mental_vs_physical           1259 non-null object\n",
      "obs_consequence              1259 non-null object\n",
      "comments                     164 non-null object\n",
      "dtypes: int64(1), object(26)\n",
      "memory usage: 265.6+ KB\n"
     ]
    }
   ],
   "source": [
    "import pandas as pd\n",
    "df = pd.read_csv(\"survey.csv\")\n",
    "df.head()\n",
    "df.info()"
   ]
  },
  {
   "cell_type": "markdown",
   "metadata": {},
   "source": [
    "#### Age Distribution"
   ]
  },
  {
   "cell_type": "markdown",
   "metadata": {},
   "source": [
    "This part addresses on the question: what is your age?\n",
    "The raw data shows that the typical age of the employees is in the 30s. "
   ]
  },
  {
   "cell_type": "code",
   "execution_count": 2,
   "metadata": {},
   "outputs": [
    {
     "data": {
      "text/plain": [
       "Text(0,0.5,'Freq')"
      ]
     },
     "execution_count": 2,
     "metadata": {},
     "output_type": "execute_result"
    },
    {
     "data": {
      "image/png": "[encoded data removed]",
      "text/plain": [
       "<matplotlib.figure.Figure at 0x109c20668>"
      ]
     },
     "metadata": {},
     "output_type": "display_data"
    }
   ],
   "source": [
    "import numpy as np\n",
    "import matplotlib.pyplot as plt\n",
    "import seaborn as sns\n",
    "%matplotlib inline\n",
    "\n",
    "df['Age'] = pd.to_numeric(df['Age'],errors='coerce')\n",
    "def age_process(age):\n",
    "    if age>=0 and age<=100:\n",
    "        return age\n",
    "    else:\n",
    "        return np.nan\n",
    "df['Age'] = df['Age'].apply(age_process)\n",
    "\n",
    "fig,ax = plt.subplots(figsize=(8,6))\n",
    "sns.distplot(df['Age'].dropna(),ax=ax,kde=False)\n",
    "plt.title('Age Distribution')\n",
    "plt.ylabel('Freq')"
   ]
  },
  {
   "cell_type": "markdown",
   "metadata": {},
   "source": [
    "#### Tech Company"
   ]
  },
  {
   "cell_type": "markdown",
   "metadata": {},
   "source": [
    "This part addresses on the question: Is your employer primarily a tech company/organization?\n",
    "The raw data shows that \"Yes\" - 1031(81.8%); \"No\" - 229(18.2%). Therefore, the majority of the participants work in the tech field. "
   ]
  },
  {
   "cell_type": "code",
   "execution_count": 4,
   "metadata": {},
   "outputs": [
    {
     "data": {
      "text/plain": [
       "Text(0,0.5,'Count')"
      ]
     },
     "execution_count": 4,
     "metadata": {},
     "output_type": "execute_result"
    },
    {
     "data": {
      "image/png": "[encoded data removed]",
      "text/plain": [
       "<matplotlib.figure.Figure at 0x109c209b0>"
      ]
     },
     "metadata": {},
     "output_type": "display_data"
    }
   ],
   "source": [
    "fig,ax  =plt.subplots(figsize=(8,6))\n",
    "sns.countplot(df['tech_company'].dropna(),ax=ax)\n",
    "plt.title('Working at a tech company')\n",
    "plt.ylabel('Count')"
   ]
  },
  {
   "cell_type": "markdown",
   "metadata": {},
   "source": [
    "#### Mental health benefits"
   ]
  },
  {
   "cell_type": "markdown",
   "metadata": {},
   "source": [
    "This part addresses on the question: Does your employer provide mental health benefits? The raw data shows that \"Yes\" - 477 (37.9%); \"No\" - 375(29.8%); \"Don't know\" - 408(32.4%).\n",
    "Therefore, the majority of employers are willling to provide mental health benefits. "
   ]
  },
  {
   "cell_type": "code",
   "execution_count": 5,
   "metadata": {
    "scrolled": true
   },
   "outputs": [
    {
     "data": {
      "text/plain": [
       "Text(0,0.5,'Count')"
      ]
     },
     "execution_count": 5,
     "metadata": {},
     "output_type": "execute_result"
    },
    {
     "data": {
      "image/png": "[encoded data removed]",
      "text/plain": [
       "<matplotlib.figure.Figure at 0x1a14ed55f8>"
      ]
     },
     "metadata": {},
     "output_type": "display_data"
    }
   ],
   "source": [
    "fig,ax  =plt.subplots(figsize=(8,6))\n",
    "sns.countplot(df['benefits'].dropna(),ax=ax)\n",
    "plt.title('Mental health benefits Distribution')\n",
    "plt.ylabel('Count')"
   ]
  },
  {
   "cell_type": "markdown",
   "metadata": {},
   "source": [
    "#### Seek help"
   ]
  },
  {
   "cell_type": "markdown",
   "metadata": {},
   "source": [
    "This part addresses on the question: Does your employer provide resources to learn more about mental health issues and how to seek help?\n",
    "The raw data shows that \"Yes\" - 250(19.8%), \"No\" - 647(51.3%), \"Don't know\" - 363(28.8%). \n",
    "Therefore, even if the mental health beneifts are provided by majority empolyers, resources related to mental health are ignored by most employers. "
   ]
  },
  {
   "cell_type": "code",
   "execution_count": 6,
   "metadata": {
    "scrolled": true
   },
   "outputs": [
    {
     "data": {
      "text/plain": [
       "Text(0,0.5,'Count')"
      ]
     },
     "execution_count": 6,
     "metadata": {},
     "output_type": "execute_result"
    },
    {
     "data": {
      "image/png": "[encoded data removed]",
      "text/plain": [
       "<matplotlib.figure.Figure at 0x1a14e017b8>"
      ]
     },
     "metadata": {},
     "output_type": "display_data"
    }
   ],
   "source": [
    "fig,ax  =plt.subplots(figsize=(8,6))\n",
    "sns.countplot(df['seek_help'].dropna(),ax=ax)\n",
    "plt.title('Resources on seeking help ')\n",
    "plt.ylabel('Count')"
   ]
  },
  {
   "cell_type": "markdown",
   "metadata": {},
   "source": [
    "#### Treatment Distribution"
   ]
  },
  {
   "cell_type": "markdown",
   "metadata": {},
   "source": [
    "This part addresses on the question: Have you sought treatment for a mental health condition? The raw data shows that 637(50.6%) sought treatment and 623(49.4%) didn't. Therefore, there is little difference between two responses."
   ]
  },
  {
   "cell_type": "code",
   "execution_count": 41,
   "metadata": {},
   "outputs": [
    {
     "data": {
      "text/plain": [
       "Text(0.5,1,'Treatement Distribution')"
      ]
     },
     "execution_count": 41,
     "metadata": {},
     "output_type": "execute_result"
    },
    {
     "data": {
      "image/png": "[encoded data removed]",
      "text/plain": [
       "<matplotlib.figure.Figure at 0x1a16931e10>"
      ]
     },
     "metadata": {},
     "output_type": "display_data"
    }
   ],
   "source": [
    "fig,ax  =plt.subplots(figsize=(8,6))\n",
    "sns.countplot(df['treatment'])\n",
    "plt.title('Treatement Distribution')"
   ]
  },
  {
   "cell_type": "markdown",
   "metadata": {},
   "source": [
    "#### Openness about mental illness "
   ]
  },
  {
   "cell_type": "markdown",
   "metadata": {},
   "source": [
    "This part addresses the comparison of two questions: Do you think that discussing a mental health issue with your employer would have negative consequences? And, do you think that discussing a physical health issue with your employer would have negative consequences?\n",
    "The large majority of people think discussing physical health issues with their employers will not result in negative consequences, while the answers to whether or not discussing mental health disorders with employers will result in negative consequences is more divided. In other words, some people believe there are negative consequences, however, there are still more people believe it won't. The reasons behind that could be a strong employer-employee relationship and the trust built on it. \n",
    "Based on the raw data, we can see people are more worried about the negative consequences brought by mental health issues than by physical health issues, even if there are more responses against having negative consequences in both situations.  "
   ]
  },
  {
   "cell_type": "code",
   "execution_count": 40,
   "metadata": {
    "scrolled": true
   },
   "outputs": [
    {
     "data": {
      "text/plain": [
       "Text(0,0.5,'count')"
      ]
     },
     "execution_count": 40,
     "metadata": {},
     "output_type": "execute_result"
    },
    {
     "data": {
      "image/png": "[encoded data removed]",
      "text/plain": [
       "<matplotlib.figure.Figure at 0x1a16183be0>"
      ]
     },
     "metadata": {},
     "output_type": "display_data"
    }
   ],
   "source": [
    "fig, (ax1, ax2) = plt.subplots(ncols=2, sharey=True)\n",
    "\n",
    "g1=sns.countplot(data = df,x = 'phys_health_consequence', ax=ax1, order=['Yes', 'No', 'Maybe'])\n",
    "g2=sns.countplot(data = df,x = 'mental_health_consequence', ax=ax2, order=['Yes', 'No', 'Maybe'])\n",
    "g1.set_xlabel('# Responses for\\nPhysical Health Issues')\n",
    "g2.set_xlabel('# Responses for\\nMental Health Issues')\n",
    "fig.suptitle('Responses to \"Do you think that discussing a health issue with your employer would have negative consequences?\"')\n",
    "plt.ylabel('count')"
   ]
  },
  {
   "cell_type": "markdown",
   "metadata": {},
   "source": [
    "#### Work Interfere Distribution"
   ]
  },
  {
   "cell_type": "markdown",
   "metadata": {},
   "source": [
    "This part addresses on the question: If you have a mental health condition, do you feel that it interferes with your work? The raw data shows that \"Often\" 144(14.5%), \"Sometimes\" 66(46.8%), \"rarely\" 173(17.4%), \"Never\" 213(21.4%).\n",
    "Therefore, the majority of the survey participants feel mental health will interfere thier career. This is likely the reason why many people believe discussing a mental health issue with thier employers would have negative consequences since they are worried it would affect their work and further harm thier careers. "
   ]
  },
  {
   "cell_type": "code",
   "execution_count": 9,
   "metadata": {
    "scrolled": true
   },
   "outputs": [
    {
     "data": {
      "text/plain": [
       "Text(0,0.5,'Count')"
      ]
     },
     "execution_count": 9,
     "metadata": {},
     "output_type": "execute_result"
    },
    {
     "data": {
      "image/png": "[encoded data removed]",
      "text/plain": [
       "<matplotlib.figure.Figure at 0x1a14e50cc0>"
      ]
     },
     "metadata": {},
     "output_type": "display_data"
    }
   ],
   "source": [
    "fig,ax  =plt.subplots(figsize=(8,6))\n",
    "sns.countplot(df['work_interfere'].dropna(),ax=ax)\n",
    "plt.title('Work interfere Distribution')\n",
    "plt.ylabel('Count')"
   ]
  },
  {
   "cell_type": "markdown",
   "metadata": {},
   "source": [
    "## Part2 Improving a journal article"
   ]
  },
  {
   "cell_type": "markdown",
   "metadata": {},
   "source": [
    "Human computation, specifically crowdsourcing approaches, could help to overcome the inherent variance of odor perception by collecting the opinions of many independent smellers. In the article Detection and Classification of Human Body Odor Using an Electronic Nose (Wongchoosuk et al., 2009), human body odors were collected only from two male volunteers, which is a small odor sample. However, introducing a new measurement or promoting a new technology like E-nose require researchers to conduct multiple experiments by using different materials from different data bases. Therefore, in order to extend the discrimination of human body odors like gender factor ignored in this article, I plan to reformulate the part of data collection in a human computational way by increasing sensor types that response to a variety of volatile molecules. \n",
    "\n",
    "The whole crowd-sourced workflow starts from collecting public participants’ sweat. Untrained public participants will attend public events, say a science or an art museum on specific days. Sweat samples are collected with cotton pads worn under the clothing and against axillary vault. When subjects are viewing exhibitions or doing any light physical activities, the gauze pads in each armpit will contain the sweat. After sweat collection, left and right armpits will be combined as a single sample to this individual and will be stored in odorless glass at -80 °C. \n",
    "\n",
    "After getting sweat samples, I will distribute those smell samples to smellers, whose reflections and opinions will be recorded on a web-based data platform in order to code different odors. Smellers  are recruited from the same population of donors at the same public event. Participants will be randomly assigned five odors to evaluate their emotional states (liking, joy, anger, sadness, and fear), intensities (0%-100%), and class descriptors (animal, chemical, spicy, fruity, fatty, and vegetal). All those evaluations will be presented on a web-browser and stored on a data collection platform. \n",
    "\n",
    "As a reward, odor donors will have a chance to learn about the composition of their own body odor. Salganik (2017) mentioned that the way to motivate participants is to design experiments like fun and competition. In my research, participants not only acquire a learning opportunity on sweat collection, but also will be given an access to their own body odor evaluations. During the odor collection, each donor will be assigned a unique numerical code, keeping confidential and providing double-blind odor evaluations. \n",
    "\n",
    "The primary advantage of human computation method is that it enables researchers to handle infinte amounts of data using a finite amount of human effort (Salganik, 2017). In my reformulated study, I will aggregate crowd-sourced of body odor and build a \"sweat odorbase\" on a web-based platform which is available for reproducing results from conventional laboratory-based studies and extending to future research. \n",
    "\n",
    "Sweat odor is not easily to be produced by computers, which means that I have to break this big problem into lots of simple micro-tasks that can be solved by people. Since body odor perception is a high variance and highly personal phenomenon that cannot be well resolved from a small data set, heterogeneity will be leveraged, including different ages, genders, and social backgrounds. In this way, even if the chemical complexity of sweat and subjectivity of smeller perception may combine to show high variance, the central tendency of human-derived estimates can be highly informative. \n",
    "\n",
    "\n",
    "\n",
    "\n",
    "Reference:\n",
    "Salganik, Matthew J. 2017. Bit by Bit: Social Research in the Digital Age. Princeton, NJ: Princeton.\n",
    "Wongchoosuk, C., Lutz, M., & Kerdcharoen, T. (2009). Detection and classification of human body odor using an electronic nose. Sensors, 9(9), 7234-7249."
   ]
  },
  {
   "cell_type": "markdown",
   "metadata": {},
   "source": [
    "## Part3 Alternative "
   ]
  },
  {
   "cell_type": "markdown",
   "metadata": {},
   "source": [
    "I spent one hour on Clickworker which is similar to Amazon MTurk and took three surveys. Interestingly, every time I opened a new task, I had to finish several pre-test questions to examine if I am qualified to take the survey. Therefore, there are serveral transactions uncredied because of unmatch. Unfortunately, I failed to find out a page to record my one-hour process, so I attach the screenshot of survey time and matched bonus points.  "
   ]
  }
 ],
 "metadata": {
  "kernelspec": {
   "display_name": "Python 3",
   "language": "python",
   "name": "python3"
  },
  "language_info": {
   "codemirror_mode": {
    "name": "ipython",
    "version": 3
   },
   "file_extension": ".py",
   "mimetype": "text/x-python",
   "name": "python",
   "nbconvert_exporter": "python",
   "pygments_lexer": "ipython3",
   "version": "3.6.3"
  }
 },
 "nbformat": 4,
 "nbformat_minor": 2
}
