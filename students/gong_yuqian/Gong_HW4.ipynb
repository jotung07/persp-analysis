{
 "cells": [
  {
   "cell_type": "markdown",
   "metadata": {},
   "source": [
    "#Problem set 4\n",
    "#Name: Yuqian Gong"
   ]
  },
  {
   "cell_type": "code",
   "execution_count": 277,
   "metadata": {
    "scrolled": true
   },
   "outputs": [
    {
     "name": "stdout",
     "output_type": "stream",
     "text": [
      "Requirement already satisfied: ggplot in ./anaconda3/lib/python3.6/site-packages\n",
      "Requirement already satisfied: statsmodels in ./anaconda3/lib/python3.6/site-packages (from ggplot)\n",
      "Requirement already satisfied: scipy in ./anaconda3/lib/python3.6/site-packages (from ggplot)\n",
      "Requirement already satisfied: patsy>=0.4 in ./anaconda3/lib/python3.6/site-packages (from ggplot)\n",
      "Requirement already satisfied: brewer2mpl in ./anaconda3/lib/python3.6/site-packages (from ggplot)\n",
      "Requirement already satisfied: pandas in ./anaconda3/lib/python3.6/site-packages (from ggplot)\n",
      "Requirement already satisfied: six in ./anaconda3/lib/python3.6/site-packages (from ggplot)\n",
      "Requirement already satisfied: numpy in ./anaconda3/lib/python3.6/site-packages (from ggplot)\n",
      "Requirement already satisfied: matplotlib in ./anaconda3/lib/python3.6/site-packages (from ggplot)\n",
      "Requirement already satisfied: cycler in ./anaconda3/lib/python3.6/site-packages (from ggplot)\n",
      "Requirement already satisfied: python-dateutil>=2 in ./anaconda3/lib/python3.6/site-packages (from pandas->ggplot)\n",
      "Requirement already satisfied: pytz>=2011k in ./anaconda3/lib/python3.6/site-packages (from pandas->ggplot)\n",
      "Requirement already satisfied: pyparsing!=2.0.4,!=2.1.2,!=2.1.6,>=1.5.6 in ./anaconda3/lib/python3.6/site-packages (from matplotlib->ggplot)\n"
     ]
    },
    {
     "data": {
      "text/plain": [
       "0"
      ]
     },
     "execution_count": 277,
     "metadata": {},
     "output_type": "execute_result"
    }
   ],
   "source": [
    "import pip\n",
    "pip.main(['install','ggplot'])\n"
   ]
  },
  {
   "cell_type": "code",
   "execution_count": 262,
   "metadata": {},
   "outputs": [
    {
     "name": "stdout",
     "output_type": "stream",
     "text": [
      "Requirement already satisfied: pandas in ./anaconda3/lib/python3.6/site-packages\n",
      "Requirement already satisfied: python-dateutil>=2 in ./anaconda3/lib/python3.6/site-packages (from pandas)\n",
      "Requirement already satisfied: pytz>=2011k in ./anaconda3/lib/python3.6/site-packages (from pandas)\n",
      "Requirement already satisfied: numpy>=1.7.0 in ./anaconda3/lib/python3.6/site-packages (from pandas)\n",
      "Requirement already satisfied: six>=1.5 in ./anaconda3/lib/python3.6/site-packages (from python-dateutil>=2->pandas)\n"
     ]
    },
    {
     "data": {
      "text/plain": [
       "0"
      ]
     },
     "execution_count": 262,
     "metadata": {},
     "output_type": "execute_result"
    }
   ],
   "source": [
    "pip.main(['install','pandas'])"
   ]
  },
  {
   "cell_type": "code",
   "execution_count": 278,
   "metadata": {
    "collapsed": true
   },
   "outputs": [],
   "source": [
    "import numpy as np\n",
    "import matplotlib.pyplot as plt\n",
    "from matplotlib.ticker import MultipleLocator\n",
    "from matplotlib.ticker import FormatStrFormatter\n",
    "import copy"
   ]
  },
  {
   "cell_type": "code",
   "execution_count": 279,
   "metadata": {
    "collapsed": true
   },
   "outputs": [],
   "source": [
    "#Problem 1\n",
    "def lognormal_income_sim(p):\n",
    "    \"\"\"\n",
    "    Requires a simulation profile, p, structured as a dictionary\n",
    "    \n",
    "    p = {\n",
    "         \"sigma\"             : 0.1,     #Standard deviation of the income process\n",
    "         \"rho\"               : 0.2,     #Dependence of today's income on last period's income\n",
    "         \"g_rate\"            : 0.03,    #Long-run annual growth rate for the annual salary\n",
    "         \"avg_init_income\"   : 80000,   #The average starting income for MACSS student\n",
    "         \"yr\"                : 40,      #The number of years you will work\n",
    "         \"start_yr\"          : int(2019),#The year you starts to work\n",
    "         \"num_draws\"         :10000     #The number of simulations \n",
    "    }\n",
    "    \"\"\"\n",
    "    \n",
    "    np.random.seed(524)\n",
    "    logN_errors = np.random.normal(0, p[\"sigma\"], (p[\"yr\"], p[\"num_draws\"]))\n",
    "    \n",
    "    ln_income_mat = np.zeros((p[\"yr\"],p[\"num_draws\"]))\n",
    "    \n",
    "    ln_income_mat[0, :] = np.log(p[\"avg_init_income\"]) + logN_errors[0, :]\n",
    "    \n",
    "    for yr in range(1, p[\"yr\"]):\n",
    "        ln_income_mat[yr, :] = (1 - p[\"rho\"]) * (np.log(p[\"avg_init_income\"]) + p[\"g_rate\"] * (yr + \\\n",
    "        p[\"start_yr\"] - 2019)) + p[\"rho\"] * ln_income_mat[yr - 1, :] + logN_errors[yr, :]\n",
    "        \n",
    "    income_mat = np.exp(ln_income_mat)\n",
    "    return income_mat\n",
    "    \n",
    "    "
   ]
  },
  {
   "cell_type": "code",
   "execution_count": 280,
   "metadata": {},
   "outputs": [
    {
     "data": {
      "text/plain": [
       "<matplotlib.text.Text at 0x1c253a3588>"
      ]
     },
     "execution_count": 280,
     "metadata": {},
     "output_type": "execute_result"
    },
    {
     "data": {
      "image/png": "[encoded data removed]",
      "text/plain": [
       "<matplotlib.figure.Figure at 0x1c2649ed30>"
      ]
     },
     "metadata": {},
     "output_type": "display_data"
    }
   ],
   "source": [
    "simulation_profile = {\n",
    "        \"sigma\"             : 0.1, \n",
    "        \"rho\"               : 0.2,     \n",
    "        \"g_rate\"            : 0.03,    \n",
    "        \"avg_init_income\"   : 80000,   \n",
    "        \"yr\"                : 40,      \n",
    "        \"start_yr\"          : int(2019),\n",
    "        \"num_draws\"         : 10000     \n",
    "    \n",
    "}\n",
    "%matplotlib inline\n",
    "p = simulation_profile\n",
    "income_mat = lognormal_income_sim(p)\n",
    "year_vec = np.arange(p[\"start_yr\"], p[\"start_yr\"] + p[\"yr\"])\n",
    "individual = 400\n",
    "fig, ax = plt.subplots()\n",
    "plt.plot(year_vec, income_mat[:, individual])\n",
    "minorLocator = MultipleLocator(1)\n",
    "ax.xaxis.set_minor_locator(minorLocator)\n",
    "plt.grid(b=True, which='major', color='0.65', linestyle='-')\n",
    "plt.title('Individual simulated lifetime income paths', fontsize=10)\n",
    "plt.xlabel(r'Year $t$')\n",
    "plt.ylabel(r'Annual Income ($s)')"
   ]
  },
  {
   "cell_type": "code",
   "execution_count": 304,
   "metadata": {},
   "outputs": [
    {
     "data": {
      "text/plain": [
       "<matplotlib.text.Text at 0x1c268e8908>"
      ]
     },
     "execution_count": 304,
     "metadata": {},
     "output_type": "execute_result"
    },
    {
     "data": {
      "image/png": "[encoded data removed]",
      "text/plain": [
       "<matplotlib.figure.Figure at 0x1c25277198>"
      ]
     },
     "metadata": {},
     "output_type": "display_data"
    }
   ],
   "source": [
    "#Problem 2\n",
    "x = income_mat[0, :]\n",
    "fig, ax = plt.subplots()\n",
    "ax.hist(x, 50, range = (x.min(), x.max()), histtype = \"bar\") \n",
    "\n",
    "plt.grid(b=True, which='major', color='0.65', linestyle='-')\n",
    "plt.xlabel('Income range of 10000 simulations')\n",
    "plt.ylabel('Frequency')\n",
    "plt.title(r'Histogram of 2019 income')\n",
    "\n",
    "\n"
   ]
  },
  {
   "cell_type": "code",
   "execution_count": 302,
   "metadata": {
    "scrolled": true
   },
   "outputs": [
    {
     "name": "stdout",
     "output_type": "stream",
     "text": [
      "The percentage of our class will earn more than $100,000 is 1.27%\n",
      "The percentage of our class will earn less than $70,000 is 9.02%\n"
     ]
    }
   ],
   "source": [
    "p1 = np.mean(x > 100000) * 100\n",
    "p2 = np.mean(x < 70000) * 100\n",
    "print(\"The percentage of our class will earn more than $100,000 is {}%\".format(p1))\n",
    "print(\"The percentage of our class will earn less than $70,000 is {}%\".format(p2))"
   ]
  },
  {
   "cell_type": "code",
   "execution_count": 350,
   "metadata": {},
   "outputs": [],
   "source": [
    "#problem 3 \n",
    "from ggplot import *\n",
    "\n",
    "def compute_yrs_payloan(income_mat):\n",
    "    pay_debt = copy.deepcopy(income_mat)\n",
    "    pay_debt = pay_debt * 0.1\n",
    "    for yr in range(1, p[\"yr\"]):\n",
    "        pay_debt[yr, :] += pay_debt[yr - 1, :]\n",
    "        \n",
    "    yr_pay_debt = np.zeros(p[\"num_draws\"])\n",
    "        \n",
    "    for num in range(p[\"num_draws\"]):\n",
    "        a = pay_debt[:, num]\n",
    "        for yr in range(0, p[\"yr\"]):\n",
    "            if a[yr] >= 95000:\n",
    "                yr_pay_debt[num] = yr + 1\n",
    "                break \n",
    "                \n",
    "    percent_under_10 = np.mean(yr_pay_debt <= 10) * 100\n",
    "    \n",
    "    yr_count = {}\n",
    "    for num_yr in yr_pay_debt:\n",
    "        yr_count[int(num_yr)] = yr_count.get(int(num_yr), 0) + 1\n",
    "\n",
    "    yr_ls = []\n",
    "    for k, v in yr_count.items():\n",
    "        yr_ls.append((k, v/10000 * 100))\n",
    "    \n",
    "    \n",
    "    yr_ls.sort()\n",
    "    return yr_ls, percent_under_10\n",
    "\n"
   ]
  },
  {
   "cell_type": "code",
   "execution_count": 351,
   "metadata": {},
   "outputs": [
    {
     "name": "stdout",
     "output_type": "stream",
     "text": [
      "The percentage of the simulations that are able to pay off the loan in 10 years is 18.470000%\n"
     ]
    }
   ],
   "source": [
    "income_mat = lognormal_income_sim(simulation_profile)\n",
    "yr_ls, percent_under_10 = compute_yrs_payloan(income_mat)\n",
    "print(\"The percentage of the simulations that are able to \\\n",
    "pay off the loan in 10 years is {:2f}%\".format(percent_under_10))\n",
    "\n",
    "\n",
    "#we can see that the percentage of simulations that I am able to\n",
    "#pay off the loan in 10 years is  18.47%"
   ]
  },
  {
   "cell_type": "code",
   "execution_count": 352,
   "metadata": {},
   "outputs": [
    {
     "data": {
      "image/png": "[encoded data removed]",
      "text/plain": [
       "<matplotlib.figure.Figure at 0x1c27756a58>"
      ]
     },
     "metadata": {},
     "output_type": "display_data"
    }
   ],
   "source": [
    "import pandas as pd\n",
    "\n",
    "def plot_yrs_payload_hist(yr_ls):\n",
    "    df = pd.DataFrame(data = yr_ls, columns = [\"num of years\", \"frequency\"])\n",
    "    df.plot(kind='bar', x='num of years')\n",
    "    plt.title('Histogram of different years to pay the $95000 debt', fontsize=10)\n",
    "    plt.xlabel(r'Num of years')\n",
    "    plt.ylabel(r'Percentage of all simulations %')\n",
    "\n",
    "plot_yrs_payload_hist(yr_ls)\n"
   ]
  },
  {
   "cell_type": "code",
   "execution_count": 353,
   "metadata": {
    "scrolled": true
   },
   "outputs": [
    {
     "name": "stdout",
     "output_type": "stream",
     "text": [
      "The percentage of the simulations that are able to pay off the loan in 10 years is 70.200000%\n"
     ]
    }
   ],
   "source": [
    "#Problem 4\n",
    "p2 = copy.deepcopy(p)\n",
    "p2[\"avg_init_income\"] = 85000\n",
    "p2[\"sigma\"] = 0.15\n",
    "income_mat2 = lognormal_income_sim(p2)\n",
    "yr_ls, percent_under_10 = compute_yrs_payloan(income_mat2)\n",
    "print(\"The percentage of the simulations that are able to \\\n",
    "pay off the loan in 10 years is {:2f}%\".format(percent_under_10))\n",
    "\n"
   ]
  },
  {
   "cell_type": "code",
   "execution_count": 354,
   "metadata": {},
   "outputs": [
    {
     "data": {
      "image/png": "[encoded data removed]",
      "text/plain": [
       "<matplotlib.figure.Figure at 0x1c277cc048>"
      ]
     },
     "metadata": {},
     "output_type": "display_data"
    }
   ],
   "source": [
    "plot_yrs_payload_hist(yr_ls)"
   ]
  },
  {
   "cell_type": "code",
   "execution_count": null,
   "metadata": {
    "collapsed": true
   },
   "outputs": [],
   "source": []
  }
 ],
 "metadata": {
  "kernelspec": {
   "display_name": "Python 3",
   "language": "python",
   "name": "python3"
  },
  "language_info": {
   "codemirror_mode": {
    "name": "ipython",
    "version": 3
   },
   "file_extension": ".py",
   "mimetype": "text/x-python",
   "name": "python",
   "nbconvert_exporter": "python",
   "pygments_lexer": "ipython3",
   "version": "3.6.2"
  }
 },
 "nbformat": 4,
 "nbformat_minor": 2
}
