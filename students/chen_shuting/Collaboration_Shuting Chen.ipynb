{
 "cells": [
  {
   "cell_type": "markdown",
   "metadata": {},
   "source": [
    "# Assignment 5: Collaboration \n",
    "Shuting Chen  \n",
    "11/13/2017"
   ]
  },
  {
   "cell_type": "markdown",
   "metadata": {},
   "source": [
    "### Part 1: Kaggle open call projects "
   ]
  },
  {
   "cell_type": "markdown",
   "metadata": {},
   "source": [
    "#### Q1. Create an account with Kaggle.com"
   ]
  },
  {
   "cell_type": "markdown",
   "metadata": {},
   "source": [
    "I created a Kaggle account with the user name of *shuting1105*, using my email address *Chenst1105@gmail.com*."
   ]
  },
  {
   "cell_type": "markdown",
   "metadata": {},
   "source": [
    "#### Q2. An open call project: WSDM - KKBox's Music Recommendation Challenge"
   ]
  },
  {
   "cell_type": "markdown",
   "metadata": {
    "collapsed": true
   },
   "source": [
    "#### Description of the project \n",
    "\n",
    "The open call project, WSDM - KKBox's Music Recommendation Challenge, seems interesting since it asks us to establish a better music recommendation system that can recognize whether listeners would like a new song and provide song recommendations to brand new users without enough historical data. The main purpose of the project is to find a better algorithm which can work well for music recommendation with limited or rare historical data.\n",
    "\n",
    "To compare and evaluate different algorithms under the same scenario, the organizer provides the dataset from KKBOX, which is a leading Asian music streaming service with the world's most extensive Asia-Pop music library. Although they currently employ a collaborative filtering based algorithm in their recommendation system, they would like to improve it by augmenting new techniques. \n",
    "\n",
    "#### What I have to do to make a submission \n",
    "\n",
    "Firstly, I am going to carefully understand the dataset in this competition. This involves reading the data description on the website and conducting basic analysis of the dataset such as getting summary statistics and plotting figures to learn about the intrinsic characteristics of the data. Additionally, I would like to browse some discussions on Kaggle Kernels or Discussion to enrich my undertanding of the data as well as correcting some misunderstanding.\n",
    "\n",
    "In terms of the underlying characteristics of the data and the purpose of this project, I need to make a decision on the choice of methods and models. Specifically, this competition includes a task to predict the probabilities of a user listening to a song repetitively after he/she first listened to it within a time interval. Since this is relevant to forecasting, I am going to use cross-validation to avoid or alleviate the issue of overfitting. Presumably, the number of times the songs appear in the data would be included in the model as an important indicator reflecting individual's preference on music. Besides, it is important to pay more attention to time series approaches for this data.  \n",
    "\n",
    "After attempting to write an algorithm and evaluating its performance with both training and testing data, I would like to improve the accuracy of prediction. It might be a good idea to revisit Kaggle discussion website where poeple working on the same project will share their ideas and ask questions they get confused. "
   ]
  },
  {
   "cell_type": "markdown",
   "metadata": {},
   "source": [
    "#### Q3. Using a dataset on Kaggle: Human Resources Analytics "
   ]
  },
  {
   "cell_type": "markdown",
   "metadata": {
    "collapsed": true
   },
   "source": [
    "In this part, I am going to use a dataset called Human Resources Analytics (https://www.kaggle.com/ludobenistant/hr-analytics), which aims to figure out why are best and most experienced employees leaving prematurely. This dataset contains 10 variables such as satisfaction level, last evaluation, number of projects, average monthly hours, time spent at the company, whether they have had a work accident, whether they have had a promotion in the last 5 years, departments, salary and whether the employee has left. "
   ]
  },
  {
   "cell_type": "code",
   "execution_count": 32,
   "metadata": {
    "collapsed": true
   },
   "outputs": [],
   "source": [
    "# Import useful modules\n",
    "import pandas as pd\n",
    "import matplotlib.pyplot as plt\n",
    "import seaborn as sns\n",
    "%matplotlib inline"
   ]
  },
  {
   "cell_type": "code",
   "execution_count": 33,
   "metadata": {},
   "outputs": [
    {
     "data": {
      "text/html": [
       "<div>\n",
       "<style>\n",
       "    .dataframe thead tr:only-child th {\n",
       "        text-align: right;\n",
       "    }\n",
       "\n",
       "    .dataframe thead th {\n",
       "        text-align: left;\n",
       "    }\n",
       "\n",
       "    .dataframe tbody tr th {\n",
       "        vertical-align: top;\n",
       "    }\n",
       "</style>\n",
       "<table border=\"1\" class=\"dataframe\">\n",
       "  <thead>\n",
       "    <tr style=\"text-align: right;\">\n",
       "      <th></th>\n",
       "      <th>turnover</th>\n",
       "      <th>satisfaction_level</th>\n",
       "      <th>last_evaluation</th>\n",
       "      <th>number_project</th>\n",
       "      <th>average_montly_hours</th>\n",
       "      <th>time_spend_company</th>\n",
       "      <th>Work_accident</th>\n",
       "      <th>promotion_last_5years</th>\n",
       "      <th>sales</th>\n",
       "      <th>salary</th>\n",
       "    </tr>\n",
       "  </thead>\n",
       "  <tbody>\n",
       "    <tr>\n",
       "      <th>0</th>\n",
       "      <td>1</td>\n",
       "      <td>0.38</td>\n",
       "      <td>0.53</td>\n",
       "      <td>2</td>\n",
       "      <td>157</td>\n",
       "      <td>3</td>\n",
       "      <td>0</td>\n",
       "      <td>0</td>\n",
       "      <td>sales</td>\n",
       "      <td>low</td>\n",
       "    </tr>\n",
       "    <tr>\n",
       "      <th>1</th>\n",
       "      <td>1</td>\n",
       "      <td>0.80</td>\n",
       "      <td>0.86</td>\n",
       "      <td>5</td>\n",
       "      <td>262</td>\n",
       "      <td>6</td>\n",
       "      <td>0</td>\n",
       "      <td>0</td>\n",
       "      <td>sales</td>\n",
       "      <td>medium</td>\n",
       "    </tr>\n",
       "    <tr>\n",
       "      <th>2</th>\n",
       "      <td>1</td>\n",
       "      <td>0.11</td>\n",
       "      <td>0.88</td>\n",
       "      <td>7</td>\n",
       "      <td>272</td>\n",
       "      <td>4</td>\n",
       "      <td>0</td>\n",
       "      <td>0</td>\n",
       "      <td>sales</td>\n",
       "      <td>medium</td>\n",
       "    </tr>\n",
       "    <tr>\n",
       "      <th>3</th>\n",
       "      <td>1</td>\n",
       "      <td>0.72</td>\n",
       "      <td>0.87</td>\n",
       "      <td>5</td>\n",
       "      <td>223</td>\n",
       "      <td>5</td>\n",
       "      <td>0</td>\n",
       "      <td>0</td>\n",
       "      <td>sales</td>\n",
       "      <td>low</td>\n",
       "    </tr>\n",
       "    <tr>\n",
       "      <th>4</th>\n",
       "      <td>1</td>\n",
       "      <td>0.37</td>\n",
       "      <td>0.52</td>\n",
       "      <td>2</td>\n",
       "      <td>159</td>\n",
       "      <td>3</td>\n",
       "      <td>0</td>\n",
       "      <td>0</td>\n",
       "      <td>sales</td>\n",
       "      <td>low</td>\n",
       "    </tr>\n",
       "  </tbody>\n",
       "</table>\n",
       "</div>"
      ],
      "text/plain": [
       "   turnover  satisfaction_level  last_evaluation  number_project  \\\n",
       "0         1                0.38             0.53               2   \n",
       "1         1                0.80             0.86               5   \n",
       "2         1                0.11             0.88               7   \n",
       "3         1                0.72             0.87               5   \n",
       "4         1                0.37             0.52               2   \n",
       "\n",
       "   average_montly_hours  time_spend_company  Work_accident  \\\n",
       "0                   157                   3              0   \n",
       "1                   262                   6              0   \n",
       "2                   272                   4              0   \n",
       "3                   223                   5              0   \n",
       "4                   159                   3              0   \n",
       "\n",
       "   promotion_last_5years  sales  salary  \n",
       "0                      0  sales     low  \n",
       "1                      0  sales  medium  \n",
       "2                      0  sales  medium  \n",
       "3                      0  sales     low  \n",
       "4                      0  sales     low  "
      ]
     },
     "execution_count": 33,
     "metadata": {},
     "output_type": "execute_result"
    }
   ],
   "source": [
    "# Import data from my folder in persp-analysis\n",
    "data = pd.DataFrame.from_csv('HR_comma_sep.csv', index_col = None)\n",
    "# Move the response variable \"left\" to the first column of the table and rename \"left\" as \"turnover\" \n",
    "first = data['left']\n",
    "data.drop(labels=['left'], axis=1,inplace = True)\n",
    "data.insert(0, 'left', first)\n",
    "data = data.rename(columns = {\"left\":\"turnover\"})\n",
    "data.head()"
   ]
  },
  {
   "cell_type": "code",
   "execution_count": 34,
   "metadata": {},
   "outputs": [
    {
     "data": {
      "text/html": [
       "<div>\n",
       "<style>\n",
       "    .dataframe thead tr:only-child th {\n",
       "        text-align: right;\n",
       "    }\n",
       "\n",
       "    .dataframe thead th {\n",
       "        text-align: left;\n",
       "    }\n",
       "\n",
       "    .dataframe tbody tr th {\n",
       "        vertical-align: top;\n",
       "    }\n",
       "</style>\n",
       "<table border=\"1\" class=\"dataframe\">\n",
       "  <thead>\n",
       "    <tr style=\"text-align: right;\">\n",
       "      <th></th>\n",
       "      <th>turnover</th>\n",
       "      <th>satisfaction_level</th>\n",
       "      <th>last_evaluation</th>\n",
       "      <th>number_project</th>\n",
       "      <th>average_montly_hours</th>\n",
       "      <th>time_spend_company</th>\n",
       "      <th>Work_accident</th>\n",
       "      <th>promotion_last_5years</th>\n",
       "    </tr>\n",
       "  </thead>\n",
       "  <tbody>\n",
       "    <tr>\n",
       "      <th>count</th>\n",
       "      <td>14999.000000</td>\n",
       "      <td>14999.000000</td>\n",
       "      <td>14999.000000</td>\n",
       "      <td>14999.000000</td>\n",
       "      <td>14999.000000</td>\n",
       "      <td>14999.000000</td>\n",
       "      <td>14999.000000</td>\n",
       "      <td>14999.000000</td>\n",
       "    </tr>\n",
       "    <tr>\n",
       "      <th>mean</th>\n",
       "      <td>0.238083</td>\n",
       "      <td>0.612834</td>\n",
       "      <td>0.716102</td>\n",
       "      <td>3.803054</td>\n",
       "      <td>201.050337</td>\n",
       "      <td>3.498233</td>\n",
       "      <td>0.144610</td>\n",
       "      <td>0.021268</td>\n",
       "    </tr>\n",
       "    <tr>\n",
       "      <th>std</th>\n",
       "      <td>0.425924</td>\n",
       "      <td>0.248631</td>\n",
       "      <td>0.171169</td>\n",
       "      <td>1.232592</td>\n",
       "      <td>49.943099</td>\n",
       "      <td>1.460136</td>\n",
       "      <td>0.351719</td>\n",
       "      <td>0.144281</td>\n",
       "    </tr>\n",
       "    <tr>\n",
       "      <th>min</th>\n",
       "      <td>0.000000</td>\n",
       "      <td>0.090000</td>\n",
       "      <td>0.360000</td>\n",
       "      <td>2.000000</td>\n",
       "      <td>96.000000</td>\n",
       "      <td>2.000000</td>\n",
       "      <td>0.000000</td>\n",
       "      <td>0.000000</td>\n",
       "    </tr>\n",
       "    <tr>\n",
       "      <th>25%</th>\n",
       "      <td>0.000000</td>\n",
       "      <td>0.440000</td>\n",
       "      <td>0.560000</td>\n",
       "      <td>3.000000</td>\n",
       "      <td>156.000000</td>\n",
       "      <td>3.000000</td>\n",
       "      <td>0.000000</td>\n",
       "      <td>0.000000</td>\n",
       "    </tr>\n",
       "    <tr>\n",
       "      <th>50%</th>\n",
       "      <td>0.000000</td>\n",
       "      <td>0.640000</td>\n",
       "      <td>0.720000</td>\n",
       "      <td>4.000000</td>\n",
       "      <td>200.000000</td>\n",
       "      <td>3.000000</td>\n",
       "      <td>0.000000</td>\n",
       "      <td>0.000000</td>\n",
       "    </tr>\n",
       "    <tr>\n",
       "      <th>75%</th>\n",
       "      <td>0.000000</td>\n",
       "      <td>0.820000</td>\n",
       "      <td>0.870000</td>\n",
       "      <td>5.000000</td>\n",
       "      <td>245.000000</td>\n",
       "      <td>4.000000</td>\n",
       "      <td>0.000000</td>\n",
       "      <td>0.000000</td>\n",
       "    </tr>\n",
       "    <tr>\n",
       "      <th>max</th>\n",
       "      <td>1.000000</td>\n",
       "      <td>1.000000</td>\n",
       "      <td>1.000000</td>\n",
       "      <td>7.000000</td>\n",
       "      <td>310.000000</td>\n",
       "      <td>10.000000</td>\n",
       "      <td>1.000000</td>\n",
       "      <td>1.000000</td>\n",
       "    </tr>\n",
       "  </tbody>\n",
       "</table>\n",
       "</div>"
      ],
      "text/plain": [
       "           turnover  satisfaction_level  last_evaluation  number_project  \\\n",
       "count  14999.000000        14999.000000     14999.000000    14999.000000   \n",
       "mean       0.238083            0.612834         0.716102        3.803054   \n",
       "std        0.425924            0.248631         0.171169        1.232592   \n",
       "min        0.000000            0.090000         0.360000        2.000000   \n",
       "25%        0.000000            0.440000         0.560000        3.000000   \n",
       "50%        0.000000            0.640000         0.720000        4.000000   \n",
       "75%        0.000000            0.820000         0.870000        5.000000   \n",
       "max        1.000000            1.000000         1.000000        7.000000   \n",
       "\n",
       "       average_montly_hours  time_spend_company  Work_accident  \\\n",
       "count          14999.000000        14999.000000   14999.000000   \n",
       "mean             201.050337            3.498233       0.144610   \n",
       "std               49.943099            1.460136       0.351719   \n",
       "min               96.000000            2.000000       0.000000   \n",
       "25%              156.000000            3.000000       0.000000   \n",
       "50%              200.000000            3.000000       0.000000   \n",
       "75%              245.000000            4.000000       0.000000   \n",
       "max              310.000000           10.000000       1.000000   \n",
       "\n",
       "       promotion_last_5years  \n",
       "count           14999.000000  \n",
       "mean                0.021268  \n",
       "std                 0.144281  \n",
       "min                 0.000000  \n",
       "25%                 0.000000  \n",
       "50%                 0.000000  \n",
       "75%                 0.000000  \n",
       "max                 1.000000  "
      ]
     },
     "execution_count": 34,
     "metadata": {},
     "output_type": "execute_result"
    }
   ],
   "source": [
    "# Display the summary statistics of the employees \n",
    "data.describe()"
   ]
  },
  {
   "cell_type": "code",
   "execution_count": 36,
   "metadata": {},
   "outputs": [
    {
     "data": {
      "text/plain": [
       "[Text(0,0.5,'Number of Projects')]"
      ]
     },
     "execution_count": 36,
     "metadata": {},
     "output_type": "execute_result"
    },
    {
     "data": {
      "image/png": "[encoded data removed]",
      "text/plain": [
       "<matplotlib.figure.Figure at 0x19cb03d64e0>"
      ]
     },
     "metadata": {},
     "output_type": "display_data"
    }
   ],
   "source": [
    "# Generate a histogram reflecting the relationship between number of projects and turnover \n",
    "f, ax = plt.subplots(figsize=(14.5, 6))\n",
    "sns.countplot(y=\"number_project\", hue=\"turnover\", data=data).set_title( \\\n",
    "                                            'Employee Number of Projects Turnover Distribution', fontsize = 14)\n",
    "ax.set(ylabel = \"Number of Projects\")"
   ]
  },
  {
   "cell_type": "markdown",
   "metadata": {},
   "source": [
    "As shown in the histogram, more than half of the employees with 2, 6 or 7 projects left the company. When the number of projects is larger than 3, there is an increasing trend in employee turnover as the number of projects increases.  "
   ]
  },
  {
   "cell_type": "markdown",
   "metadata": {},
   "source": [
    "### Part 2: Improving a journal article "
   ]
  },
  {
   "cell_type": "markdown",
   "metadata": {},
   "source": [
    "#### Summary of the journal article \n",
    "\n",
    "In the paper of \"Ideological Segregation and the Effects of Social Media on News Consumption\", Flaxman, Goel and Rao (2013) evaluate the hypothesis that the growth of social media and personalized web search could increase ideological segregation by investigating web browsing histories for 1.2 million Internet users in the United States. To examine the impacts of technological changes on news consumption, they employ machine learning methods to extract national and world news stories which are closely associated with ideological segregation from all news sites where the majority of contents is releted to weather, sports and entertainment. More specifically, they identify front-section news and opinion articles by looking for words such as \"news/world\" and \"opinion\" in articles' URL (web address) with computers. Nevertheless, I think this part of work could be better implemented if they take advantage of human computation. \n",
    "\n",
    "#### Description of improving the article with the use of human computation\n",
    "\n",
    "The task of identifying front-section news and opinion articles from a variety of news websites can be easily divided into a great number of small tasks. The researchers can simply create a project on Amazon Mechanical Turk to recruit workers classifying the desired news and opinion articles. Instead of only looking for words such as \"news\" or \"opinion\" in news web address, we can provide workers with news' title and first couple of sentences. It is reasonable to believe that most workers of Amazon Mechanical Turk can quickly and correctly recognize front-selection news and distinguish opinion articles from descriptive articles. If we want to implement the new classification work with computers, it is likely required to develop a more complicated algorithm and we have to explicitly specify more target words. However, it is impossible to exaust all potential words relevant to front-section news or opinion articles. This implies that even if we could adopt an efficient algorithm, the data collected by computers might not meet the desired expection. By constrast, this concern can be eliminated if we ask human beings to do the same work. This should be attributed to our cognition of synonymous words and context in news. Besides, someone may concern about the quality of the data collected through this human computation project. To gaurantee the quality, we may restrict the participants to workers who have rich experience on solving problems via Amazon Mturk and whose accepted rate of answers is relatively high. After gathering the data, we need to clean data by removing ambiguous ones which cause half of workers treat them as front-section news (or opinion articles) but another half treat them as the opposite. \n",
    "\n",
    "In their paper, they collect 70,406 examples of front-section news and opinion, and 73,535 examples of non-news. By conducting the human computation project described above, the size of examples can be increased dramatically without too much costs. It is beneficial to their study since they use these examples as the training data for two binary classifiers. Moreover, the diversity of data should be secured since the new collected examples are not obtained by only looking for some prespecified words but by people's cognition of front-section news and opinion. Additionally, this helps researchers not to require a more advanced machine learning method, which sometimes might be expensive and hard to implement. \n",
    "\n",
    "#### References \n",
    "\n",
    "Flaxman, Seth, Sharad Goel, and Justin M. Rao. \"Ideological segregation and the effects of social media on news consumption.\" *Available at SSRN* (2013)."
   ]
  },
  {
   "cell_type": "markdown",
   "metadata": {},
   "source": [
    "### Part 3: Alternative assignment: InfluenzaNet"
   ]
  },
  {
   "cell_type": "markdown",
   "metadata": {},
   "source": [
    "#### Q1. Compare and contrast the design, costs, and likely errors in InfluenzaNet, Google Flu Trends, and traditional influenza tracking systems\n",
    "\n",
    "##### Comparing design and costs of different tracking systems: \n",
    "\n",
    "As an internet-based syndromic surveillance system of influenza-like illness(ILI), InfluenzaNet requires participants to complete an intake questionnaire at the beginning of each season and reminds them weekly to complete a symptoms questionnaire. The initial registration questionnaire records demographic information of participants such as age, gender, household size and occupation, while the following weekly symptoms questionnaires ask participants to record whether or not they have symptoms and which symptoms they have experienced. \n",
    "\n",
    "Alternatively, individuals’ internet browsing behaviors provide another channel to implement internet-based surveillance for detecting influenza epidemics. For instance, Google Flu Trends provides estimates of ILI by monitoring health-seeking behavior with the use of great numbers of Google search queries. Although both InfluenzaNet and Google Flu Trends facilitate the ability of quickly assessing the level of illness in the community, the usefulness of the latter is somewhat restricted due to the lack of individuals’ demographic information and the ability of tracking healthcare usage. \n",
    "\n",
    "Internet-based surveillance systems are distinct from the traditional physician-based monitoring system, which relies on physicians to diagnose and report ILI. Particularly, the data collected by the traditional influenza tracking system only reflect the ILI incidence among individuals who attend physicians when they are ill. This means that people not actively seeking formal care or not attending health care are excluded.  In contrast, using InfluenzaNet or Google Flu Trends to detect ILI allows us to include these people, which provides the potential to cover a wider range of cases than the traditional surveillance system. However, the requirements of having internet access and continuously completing weekly questionnaires make the data of InfluenzaNet less representative. Another essential difference between internet-based and physician-based surveillance systems is that we can have a direct and timely track of current ILI incidence via internet-based monitoring systems while there usually exists a large reporting lag for the traditional one. \n",
    "\n",
    "When considering the costs of each tracking system, Google Flu Trends should be the one with the lowest costs since the data are automatically collected when people trigger the action of online search. InfluenzaNet bears a bit more costs because it has to make effort to maintain participants' interest in the survey by sending weekly newsletters and updating its website on a daily basis with the estimated incidence and the spatial distribution of cases. In contrast, physician-based surveillance system costs much more due to following reasons. Firstly, it is costly for centralized health authority to estimate influenza incidence with reports provided by physicians. Secondly, due to the changes in the pattern of access to care, the traditional surveillance is likely to produce a distorted view of epidemic. To correct the distortion, health authotiry needs to conduct random testing of patients' access to different health-care settings. This is very expensive and results in further delays in data collection. \n",
    "\n",
    "##### Comparing likely errors of different tracking systems \n",
    "\n",
    "For InfluenzaNet, the first potential error comes from the non-representative issue of the data. Although the internet penetration rate is relatively high in developed countries, people not having internet access are probably in poor living conditions and are more vulnerable to ILI. Therefore, without including them may underestimate the ILI incidence. Secondly, the raw incidence measured by InfluenzaNet seems to be affected by individuals who only participate in the survey once and who are more likely to be ill. This probably should be attributed to the self-reporting feature of online survey. The most essential error comes from the issue of how to properly determine the denominator when estimating the incidence. This is quite challenging since people completing the questionnaire change from week to week and we cannot simply take all those completing the symptoms questionnaire for a given week as the denominator. Also it is diffcult for participants to recognize the difference between symptoms of ILI and actual influenza such as H1N1. Therefore, when they fill the questionnaire with indication that they have ILI symptoms, they actually suffer from the symptoms of a prevalent influenza. \n",
    "\n",
    "Similar to InfluenzaNet, one possible error of Google Flu Trends estimates is the non-representativeness in the data. In addition, the changes of people's searching behavior may significantly account for the errors in Google Flu Trends estimates. The estimates of Google Flue Trends are more likely to overestimate the actual incidence since searching flu symptoms might be related to disease symptoms that are similar to flu but are not actually flu.\n",
    "\n",
    "For the traditional physician-based surveillance system, one non-negligible error is the time delays of its estimates.  Due to the attribute of physician-reporting, it is difficult for traditional surveillance system to obtain timely and direct estimate of ILI prevalence. However, this type of error can be well resolved by internet-based surveillance systems. Another major source of errors is that health authority would ignore the seasonal changes of seeking health care when estimating incidence. For instance, the relatively low estimated incidences in some periods would be the result of low health-care seeking trend rather than the low influenza incidence. Besides, the exclusion of people not attending health-care plan would be another source of errors. "
   ]
  },
  {
   "cell_type": "markdown",
   "metadata": {},
   "source": [
    "#### Q2. Consider an unsettled time, such as the swine flu outbreak. Describe the possible errors in each system "
   ]
  },
  {
   "cell_type": "markdown",
   "metadata": {},
   "source": [
    "As mentioned in the second part of question 1, all those errors potentially exist for each tracking system. Nevertheless, some of them may dominate others when we encounter a sudden outbreak of swine flu. For traditional surveillance system, the dominant error should be the time lags in the estimates. Although the number of individuals visiting physicians might increase dramatically, the actual accurate estimate of this phenomenon is still going to suffer from time delays. On the other hand, although internet-based tracking systems will successfully detect the time course of the flu, they may probably overestimate the prevalence. For example, poeple may search what is the swine flu and what are the typital symptoms of the disease so that they could keep themselves away from the flu. However, Google Flu Trends would probably count this as an important indicator in measuring flu incidence. Therefore, this searching behavior is the result of increasing awareness of the disease rather than the actual infection of flu. For InfluenzaNet, participants are more possible to actively complete the questionnaire, which increases the possibility of accidentally reporting symptoms of other similar diseases as the symptoms of the swine flu. "
   ]
  }
 ],
 "metadata": {
  "kernelspec": {
   "display_name": "Python 3",
   "language": "python",
   "name": "python3"
  },
  "language_info": {
   "codemirror_mode": {
    "name": "ipython",
    "version": 3
   },
   "file_extension": ".py",
   "mimetype": "text/x-python",
   "name": "python",
   "nbconvert_exporter": "python",
   "pygments_lexer": "ipython3",
   "version": "3.6.3"
  }
 },
 "nbformat": 4,
 "nbformat_minor": 2
}
