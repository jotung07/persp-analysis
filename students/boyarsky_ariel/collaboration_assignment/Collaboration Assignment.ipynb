{
 "cells": [
  {
   "cell_type": "code",
   "execution_count": 1,
   "metadata": {
    "collapsed": true
   },
   "outputs": [],
   "source": [
    "import pandas as pd\n",
    "import sqlite3"
   ]
  },
  {
   "cell_type": "markdown",
   "metadata": {},
   "source": [
    "# Part 1: Kaggle"
   ]
  },
  {
   "cell_type": "markdown",
   "metadata": {},
   "source": [
    "### Problem 1. \n",
    "My account username is aboyarsky, under aboyarsky@uchicago.edu\n",
    "\n",
    "### Problem 2.\n",
    "The Passanger Screening Algorith Challenge is very fascinating. The TSA is looking for an algorithm to better screen luggage and people to prevent false alarms. This is very interesting to me as it clearlyhas political significance. First, any algorithm that is develoed will most likely be addressing a classification problem. That is, threat or not threat. However, this will most likely based on patterns in the data. While, it is probably very easy to create a program that will identify these correlations this very much has the possibility for bias. I.E. an algorithm may notice a correlation between skin color and threat level. This could lead to higher rates of stoppage for thes people. However, this is certainly not indicative of a casual relationship. Hence, these results will contain bias. This is could be made even worse if it discounts real threats based on skin color. Hence, this problem is intriguing as  this algorithm should go beyond simply detecting correlation. It must account for bias and perhaps even impliment some sort of casual inference mechanism.\n",
    "\n",
    "To submit to this, I would need to download the data set. Conduct some exploratory data analysis. And, attempt to write an algorithm that would take in training data predict the threat level with as little bias as possible while still scoring highly on the test data. This could be written in Python. Chances are that since the data is image based (body scans of varying body zones) I would use a nueral network for classification tasks. This will probably involve a few retraining steps to avoid overfitting and avoid bias as much as possible. It may be possible to generate other data based on this the given data to improve the classification results."
   ]
  },
  {
   "cell_type": "markdown",
   "metadata": {},
   "source": [
    "### Problem 3.\n",
    "\n",
    "This is a dataset of European Football. It includes countries, matches, leagues, and teams. The data is rather large so we will focus on the best team in world football, Tottenham Hotspur. Come on you Spurs. \n",
    "\n",
    "Notice we use a generator for this due to size concerns."
   ]
  },
  {
   "cell_type": "code",
   "execution_count": 2,
   "metadata": {
    "collapsed": true
   },
   "outputs": [],
   "source": [
    "with sqlite3.connect(\"database.sqlite\") as conn:\n",
    "    tot = pd.read_sql_query(\"SELECT * From Team WHERE team_short_name = 'TOT'\", conn)"
   ]
  },
  {
   "cell_type": "code",
   "execution_count": 3,
   "metadata": {},
   "outputs": [
    {
     "data": {
      "text/html": [
       "<div>\n",
       "<style>\n",
       "    .dataframe thead tr:only-child th {\n",
       "        text-align: right;\n",
       "    }\n",
       "\n",
       "    .dataframe thead th {\n",
       "        text-align: left;\n",
       "    }\n",
       "\n",
       "    .dataframe tbody tr th {\n",
       "        vertical-align: top;\n",
       "    }\n",
       "</style>\n",
       "<table border=\"1\" class=\"dataframe\">\n",
       "  <thead>\n",
       "    <tr style=\"text-align: right;\">\n",
       "      <th></th>\n",
       "      <th>id</th>\n",
       "      <th>team_api_id</th>\n",
       "      <th>team_fifa_api_id</th>\n",
       "      <th>team_long_name</th>\n",
       "      <th>team_short_name</th>\n",
       "    </tr>\n",
       "  </thead>\n",
       "  <tbody>\n",
       "    <tr>\n",
       "      <th>0</th>\n",
       "      <td>3470</td>\n",
       "      <td>8586</td>\n",
       "      <td>18</td>\n",
       "      <td>Tottenham Hotspur</td>\n",
       "      <td>TOT</td>\n",
       "    </tr>\n",
       "  </tbody>\n",
       "</table>\n",
       "</div>"
      ],
      "text/plain": [
       "     id  team_api_id  team_fifa_api_id     team_long_name team_short_name\n",
       "0  3470         8586                18  Tottenham Hotspur             TOT"
      ]
     },
     "execution_count": 3,
     "metadata": {},
     "output_type": "execute_result"
    }
   ],
   "source": [
    "tot"
   ]
  },
  {
   "cell_type": "markdown",
   "metadata": {
    "collapsed": true
   },
   "source": [
    "Now, we get team attributes and matches based on the team_api_id (8586):\n"
   ]
  },
  {
   "cell_type": "code",
   "execution_count": 4,
   "metadata": {
    "collapsed": true
   },
   "outputs": [],
   "source": [
    "with sqlite3.connect(\"database.sqlite\") as conn:\n",
    "    tot_attr = pd.read_sql_query(\"SELECT * From Team_Attributes WHERE team_api_id = 8586\", conn)\n",
    "    tot_matches = pd.read_sql_query(\"SELECT * From Match WHERE (home_team_api_id = 8586) OR (away_team_api_id = 8586)\",conn)"
   ]
  },
  {
   "cell_type": "markdown",
   "metadata": {},
   "source": [
    "Now, we will plot the distribution of goals scored by Tottenham:"
   ]
  },
  {
   "cell_type": "code",
   "execution_count": 5,
   "metadata": {},
   "outputs": [
    {
     "data": {
      "text/html": [
       "<div>\n",
       "<style>\n",
       "    .dataframe thead tr:only-child th {\n",
       "        text-align: right;\n",
       "    }\n",
       "\n",
       "    .dataframe thead th {\n",
       "        text-align: left;\n",
       "    }\n",
       "\n",
       "    .dataframe tbody tr th {\n",
       "        vertical-align: top;\n",
       "    }\n",
       "</style>\n",
       "<table border=\"1\" class=\"dataframe\">\n",
       "  <thead>\n",
       "    <tr style=\"text-align: right;\">\n",
       "      <th></th>\n",
       "      <th>id</th>\n",
       "      <th>country_id</th>\n",
       "      <th>league_id</th>\n",
       "      <th>season</th>\n",
       "      <th>stage</th>\n",
       "      <th>date</th>\n",
       "      <th>match_api_id</th>\n",
       "      <th>home_team_api_id</th>\n",
       "      <th>away_team_api_id</th>\n",
       "      <th>home_team_goal</th>\n",
       "      <th>...</th>\n",
       "      <th>SJA</th>\n",
       "      <th>VCH</th>\n",
       "      <th>VCD</th>\n",
       "      <th>VCA</th>\n",
       "      <th>GBH</th>\n",
       "      <th>GBD</th>\n",
       "      <th>GBA</th>\n",
       "      <th>BSH</th>\n",
       "      <th>BSD</th>\n",
       "      <th>BSA</th>\n",
       "    </tr>\n",
       "  </thead>\n",
       "  <tbody>\n",
       "    <tr>\n",
       "      <th>0</th>\n",
       "      <td>1735</td>\n",
       "      <td>1729</td>\n",
       "      <td>1729</td>\n",
       "      <td>2008/2009</td>\n",
       "      <td>1</td>\n",
       "      <td>2008-08-16 00:00:00</td>\n",
       "      <td>489048</td>\n",
       "      <td>8549</td>\n",
       "      <td>8586</td>\n",
       "      <td>2</td>\n",
       "      <td>...</td>\n",
       "      <td>2.20</td>\n",
       "      <td>3.20</td>\n",
       "      <td>3.40</td>\n",
       "      <td>2.30</td>\n",
       "      <td>3.00</td>\n",
       "      <td>3.25</td>\n",
       "      <td>2.30</td>\n",
       "      <td>2.80</td>\n",
       "      <td>3.25</td>\n",
       "      <td>2.30</td>\n",
       "    </tr>\n",
       "    <tr>\n",
       "      <th>1</th>\n",
       "      <td>1740</td>\n",
       "      <td>1729</td>\n",
       "      <td>1729</td>\n",
       "      <td>2008/2009</td>\n",
       "      <td>10</td>\n",
       "      <td>2008-10-29 00:00:00</td>\n",
       "      <td>489133</td>\n",
       "      <td>9825</td>\n",
       "      <td>8586</td>\n",
       "      <td>4</td>\n",
       "      <td>...</td>\n",
       "      <td>8.00</td>\n",
       "      <td>1.45</td>\n",
       "      <td>4.40</td>\n",
       "      <td>7.50</td>\n",
       "      <td>1.45</td>\n",
       "      <td>4.00</td>\n",
       "      <td>7.00</td>\n",
       "      <td>1.40</td>\n",
       "      <td>4.00</td>\n",
       "      <td>8.00</td>\n",
       "    </tr>\n",
       "    <tr>\n",
       "      <th>2</th>\n",
       "      <td>1750</td>\n",
       "      <td>1729</td>\n",
       "      <td>1729</td>\n",
       "      <td>2008/2009</td>\n",
       "      <td>11</td>\n",
       "      <td>2008-11-01 00:00:00</td>\n",
       "      <td>489143</td>\n",
       "      <td>8586</td>\n",
       "      <td>8650</td>\n",
       "      <td>2</td>\n",
       "      <td>...</td>\n",
       "      <td>2.05</td>\n",
       "      <td>3.35</td>\n",
       "      <td>3.50</td>\n",
       "      <td>2.15</td>\n",
       "      <td>3.60</td>\n",
       "      <td>3.35</td>\n",
       "      <td>2.05</td>\n",
       "      <td>3.40</td>\n",
       "      <td>3.20</td>\n",
       "      <td>2.10</td>\n",
       "    </tr>\n",
       "    <tr>\n",
       "      <th>3</th>\n",
       "      <td>1764</td>\n",
       "      <td>1729</td>\n",
       "      <td>1729</td>\n",
       "      <td>2008/2009</td>\n",
       "      <td>12</td>\n",
       "      <td>2008-11-09 00:00:00</td>\n",
       "      <td>489157</td>\n",
       "      <td>8456</td>\n",
       "      <td>8586</td>\n",
       "      <td>1</td>\n",
       "      <td>...</td>\n",
       "      <td>3.40</td>\n",
       "      <td>2.25</td>\n",
       "      <td>3.25</td>\n",
       "      <td>3.40</td>\n",
       "      <td>2.20</td>\n",
       "      <td>3.20</td>\n",
       "      <td>3.30</td>\n",
       "      <td>2.20</td>\n",
       "      <td>3.20</td>\n",
       "      <td>3.25</td>\n",
       "    </tr>\n",
       "    <tr>\n",
       "      <th>4</th>\n",
       "      <td>1775</td>\n",
       "      <td>1729</td>\n",
       "      <td>1729</td>\n",
       "      <td>2008/2009</td>\n",
       "      <td>13</td>\n",
       "      <td>2008-11-15 00:00:00</td>\n",
       "      <td>489168</td>\n",
       "      <td>9879</td>\n",
       "      <td>8586</td>\n",
       "      <td>2</td>\n",
       "      <td>...</td>\n",
       "      <td>2.25</td>\n",
       "      <td>2.90</td>\n",
       "      <td>3.25</td>\n",
       "      <td>2.25</td>\n",
       "      <td>3.10</td>\n",
       "      <td>3.30</td>\n",
       "      <td>2.25</td>\n",
       "      <td>3.25</td>\n",
       "      <td>3.20</td>\n",
       "      <td>2.20</td>\n",
       "    </tr>\n",
       "  </tbody>\n",
       "</table>\n",
       "<p>5 rows × 115 columns</p>\n",
       "</div>"
      ],
      "text/plain": [
       "     id  country_id  league_id     season  stage                 date  \\\n",
       "0  1735        1729       1729  2008/2009      1  2008-08-16 00:00:00   \n",
       "1  1740        1729       1729  2008/2009     10  2008-10-29 00:00:00   \n",
       "2  1750        1729       1729  2008/2009     11  2008-11-01 00:00:00   \n",
       "3  1764        1729       1729  2008/2009     12  2008-11-09 00:00:00   \n",
       "4  1775        1729       1729  2008/2009     13  2008-11-15 00:00:00   \n",
       "\n",
       "   match_api_id  home_team_api_id  away_team_api_id  home_team_goal  ...   \\\n",
       "0        489048              8549              8586               2  ...    \n",
       "1        489133              9825              8586               4  ...    \n",
       "2        489143              8586              8650               2  ...    \n",
       "3        489157              8456              8586               1  ...    \n",
       "4        489168              9879              8586               2  ...    \n",
       "\n",
       "    SJA   VCH   VCD   VCA   GBH   GBD   GBA   BSH   BSD   BSA  \n",
       "0  2.20  3.20  3.40  2.30  3.00  3.25  2.30  2.80  3.25  2.30  \n",
       "1  8.00  1.45  4.40  7.50  1.45  4.00  7.00  1.40  4.00  8.00  \n",
       "2  2.05  3.35  3.50  2.15  3.60  3.35  2.05  3.40  3.20  2.10  \n",
       "3  3.40  2.25  3.25  3.40  2.20  3.20  3.30  2.20  3.20  3.25  \n",
       "4  2.25  2.90  3.25  2.25  3.10  3.30  2.25  3.25  3.20  2.20  \n",
       "\n",
       "[5 rows x 115 columns]"
      ]
     },
     "execution_count": 5,
     "metadata": {},
     "output_type": "execute_result"
    }
   ],
   "source": [
    "tot_matches.head()"
   ]
  },
  {
   "cell_type": "code",
   "execution_count": 6,
   "metadata": {},
   "outputs": [
    {
     "data": {
      "text/html": [
       "<div>\n",
       "<style>\n",
       "    .dataframe thead tr:only-child th {\n",
       "        text-align: right;\n",
       "    }\n",
       "\n",
       "    .dataframe thead th {\n",
       "        text-align: left;\n",
       "    }\n",
       "\n",
       "    .dataframe tbody tr th {\n",
       "        vertical-align: top;\n",
       "    }\n",
       "</style>\n",
       "<table border=\"1\" class=\"dataframe\">\n",
       "  <thead>\n",
       "    <tr style=\"text-align: right;\">\n",
       "      <th></th>\n",
       "      <th>id</th>\n",
       "      <th>country_id</th>\n",
       "      <th>league_id</th>\n",
       "      <th>stage</th>\n",
       "      <th>match_api_id</th>\n",
       "      <th>home_team_api_id</th>\n",
       "      <th>away_team_api_id</th>\n",
       "      <th>home_team_goal</th>\n",
       "      <th>away_team_goal</th>\n",
       "      <th>home_player_X1</th>\n",
       "      <th>...</th>\n",
       "      <th>SJA</th>\n",
       "      <th>VCH</th>\n",
       "      <th>VCD</th>\n",
       "      <th>VCA</th>\n",
       "      <th>GBH</th>\n",
       "      <th>GBD</th>\n",
       "      <th>GBA</th>\n",
       "      <th>BSH</th>\n",
       "      <th>BSD</th>\n",
       "      <th>BSA</th>\n",
       "    </tr>\n",
       "  </thead>\n",
       "  <tbody>\n",
       "    <tr>\n",
       "      <th>count</th>\n",
       "      <td>304.000000</td>\n",
       "      <td>304.0</td>\n",
       "      <td>304.0</td>\n",
       "      <td>304.000000</td>\n",
       "      <td>3.040000e+02</td>\n",
       "      <td>304.000000</td>\n",
       "      <td>304.000000</td>\n",
       "      <td>304.000000</td>\n",
       "      <td>304.000000</td>\n",
       "      <td>304.0</td>\n",
       "      <td>...</td>\n",
       "      <td>232.000000</td>\n",
       "      <td>304.000000</td>\n",
       "      <td>304.000000</td>\n",
       "      <td>304.000000</td>\n",
       "      <td>190.000000</td>\n",
       "      <td>190.000000</td>\n",
       "      <td>190.000000</td>\n",
       "      <td>190.000000</td>\n",
       "      <td>190.000000</td>\n",
       "      <td>190.000000</td>\n",
       "    </tr>\n",
       "    <tr>\n",
       "      <th>mean</th>\n",
       "      <td>3249.177632</td>\n",
       "      <td>1729.0</td>\n",
       "      <td>1729.0</td>\n",
       "      <td>19.500000</td>\n",
       "      <td>1.178768e+06</td>\n",
       "      <td>8878.776316</td>\n",
       "      <td>8878.776316</td>\n",
       "      <td>1.562500</td>\n",
       "      <td>1.197368</td>\n",
       "      <td>1.0</td>\n",
       "      <td>...</td>\n",
       "      <td>4.429784</td>\n",
       "      <td>2.507938</td>\n",
       "      <td>3.850559</td>\n",
       "      <td>4.551069</td>\n",
       "      <td>2.392947</td>\n",
       "      <td>3.662474</td>\n",
       "      <td>4.343368</td>\n",
       "      <td>2.397632</td>\n",
       "      <td>3.684053</td>\n",
       "      <td>4.459421</td>\n",
       "    </tr>\n",
       "    <tr>\n",
       "      <th>std</th>\n",
       "      <td>880.218159</td>\n",
       "      <td>0.0</td>\n",
       "      <td>0.0</td>\n",
       "      <td>10.983937</td>\n",
       "      <td>4.916928e+05</td>\n",
       "      <td>613.827361</td>\n",
       "      <td>613.827361</td>\n",
       "      <td>1.328555</td>\n",
       "      <td>1.114202</td>\n",
       "      <td>0.0</td>\n",
       "      <td>...</td>\n",
       "      <td>2.654362</td>\n",
       "      <td>1.068682</td>\n",
       "      <td>0.648255</td>\n",
       "      <td>2.868960</td>\n",
       "      <td>0.955835</td>\n",
       "      <td>0.563964</td>\n",
       "      <td>2.575171</td>\n",
       "      <td>0.972655</td>\n",
       "      <td>0.566474</td>\n",
       "      <td>2.710153</td>\n",
       "    </tr>\n",
       "    <tr>\n",
       "      <th>min</th>\n",
       "      <td>1735.000000</td>\n",
       "      <td>1729.0</td>\n",
       "      <td>1729.0</td>\n",
       "      <td>1.000000</td>\n",
       "      <td>4.890480e+05</td>\n",
       "      <td>8191.000000</td>\n",
       "      <td>8191.000000</td>\n",
       "      <td>0.000000</td>\n",
       "      <td>0.000000</td>\n",
       "      <td>1.0</td>\n",
       "      <td>...</td>\n",
       "      <td>1.530000</td>\n",
       "      <td>1.220000</td>\n",
       "      <td>2.500000</td>\n",
       "      <td>1.500000</td>\n",
       "      <td>1.220000</td>\n",
       "      <td>3.200000</td>\n",
       "      <td>1.530000</td>\n",
       "      <td>1.220000</td>\n",
       "      <td>3.200000</td>\n",
       "      <td>1.530000</td>\n",
       "    </tr>\n",
       "    <tr>\n",
       "      <th>25%</th>\n",
       "      <td>2493.750000</td>\n",
       "      <td>1729.0</td>\n",
       "      <td>1729.0</td>\n",
       "      <td>10.000000</td>\n",
       "      <td>7.946960e+05</td>\n",
       "      <td>8586.000000</td>\n",
       "      <td>8586.000000</td>\n",
       "      <td>1.000000</td>\n",
       "      <td>0.000000</td>\n",
       "      <td>1.0</td>\n",
       "      <td>...</td>\n",
       "      <td>2.300000</td>\n",
       "      <td>1.570000</td>\n",
       "      <td>3.400000</td>\n",
       "      <td>2.300000</td>\n",
       "      <td>1.550000</td>\n",
       "      <td>3.250000</td>\n",
       "      <td>2.250000</td>\n",
       "      <td>1.530000</td>\n",
       "      <td>3.250000</td>\n",
       "      <td>2.300000</td>\n",
       "    </tr>\n",
       "    <tr>\n",
       "      <th>50%</th>\n",
       "      <td>3247.000000</td>\n",
       "      <td>1729.0</td>\n",
       "      <td>1729.0</td>\n",
       "      <td>19.500000</td>\n",
       "      <td>1.127217e+06</td>\n",
       "      <td>8586.000000</td>\n",
       "      <td>8586.000000</td>\n",
       "      <td>1.000000</td>\n",
       "      <td>1.000000</td>\n",
       "      <td>1.0</td>\n",
       "      <td>...</td>\n",
       "      <td>3.400000</td>\n",
       "      <td>2.200000</td>\n",
       "      <td>3.600000</td>\n",
       "      <td>3.400000</td>\n",
       "      <td>2.100000</td>\n",
       "      <td>3.400000</td>\n",
       "      <td>3.350000</td>\n",
       "      <td>2.100000</td>\n",
       "      <td>3.500000</td>\n",
       "      <td>3.400000</td>\n",
       "    </tr>\n",
       "    <tr>\n",
       "      <th>75%</th>\n",
       "      <td>4009.750000</td>\n",
       "      <td>1729.0</td>\n",
       "      <td>1729.0</td>\n",
       "      <td>29.000000</td>\n",
       "      <td>1.537337e+06</td>\n",
       "      <td>8659.000000</td>\n",
       "      <td>8659.000000</td>\n",
       "      <td>2.000000</td>\n",
       "      <td>2.000000</td>\n",
       "      <td>1.0</td>\n",
       "      <td>...</td>\n",
       "      <td>6.500000</td>\n",
       "      <td>3.250000</td>\n",
       "      <td>4.200000</td>\n",
       "      <td>6.500000</td>\n",
       "      <td>3.100000</td>\n",
       "      <td>3.800000</td>\n",
       "      <td>6.000000</td>\n",
       "      <td>3.100000</td>\n",
       "      <td>3.900000</td>\n",
       "      <td>6.000000</td>\n",
       "    </tr>\n",
       "    <tr>\n",
       "      <th>max</th>\n",
       "      <td>4766.000000</td>\n",
       "      <td>1729.0</td>\n",
       "      <td>1729.0</td>\n",
       "      <td>38.000000</td>\n",
       "      <td>1.989078e+06</td>\n",
       "      <td>10261.000000</td>\n",
       "      <td>10261.000000</td>\n",
       "      <td>9.000000</td>\n",
       "      <td>5.000000</td>\n",
       "      <td>1.0</td>\n",
       "      <td>...</td>\n",
       "      <td>15.000000</td>\n",
       "      <td>7.000000</td>\n",
       "      <td>6.500000</td>\n",
       "      <td>17.000000</td>\n",
       "      <td>5.750000</td>\n",
       "      <td>6.000000</td>\n",
       "      <td>13.000000</td>\n",
       "      <td>6.000000</td>\n",
       "      <td>6.000000</td>\n",
       "      <td>13.000000</td>\n",
       "    </tr>\n",
       "  </tbody>\n",
       "</table>\n",
       "<p>8 rows × 105 columns</p>\n",
       "</div>"
      ],
      "text/plain": [
       "                id  country_id  league_id       stage  match_api_id  \\\n",
       "count   304.000000       304.0      304.0  304.000000  3.040000e+02   \n",
       "mean   3249.177632      1729.0     1729.0   19.500000  1.178768e+06   \n",
       "std     880.218159         0.0        0.0   10.983937  4.916928e+05   \n",
       "min    1735.000000      1729.0     1729.0    1.000000  4.890480e+05   \n",
       "25%    2493.750000      1729.0     1729.0   10.000000  7.946960e+05   \n",
       "50%    3247.000000      1729.0     1729.0   19.500000  1.127217e+06   \n",
       "75%    4009.750000      1729.0     1729.0   29.000000  1.537337e+06   \n",
       "max    4766.000000      1729.0     1729.0   38.000000  1.989078e+06   \n",
       "\n",
       "       home_team_api_id  away_team_api_id  home_team_goal  away_team_goal  \\\n",
       "count        304.000000        304.000000      304.000000      304.000000   \n",
       "mean        8878.776316       8878.776316        1.562500        1.197368   \n",
       "std          613.827361        613.827361        1.328555        1.114202   \n",
       "min         8191.000000       8191.000000        0.000000        0.000000   \n",
       "25%         8586.000000       8586.000000        1.000000        0.000000   \n",
       "50%         8586.000000       8586.000000        1.000000        1.000000   \n",
       "75%         8659.000000       8659.000000        2.000000        2.000000   \n",
       "max        10261.000000      10261.000000        9.000000        5.000000   \n",
       "\n",
       "       home_player_X1     ...             SJA         VCH         VCD  \\\n",
       "count           304.0     ...      232.000000  304.000000  304.000000   \n",
       "mean              1.0     ...        4.429784    2.507938    3.850559   \n",
       "std               0.0     ...        2.654362    1.068682    0.648255   \n",
       "min               1.0     ...        1.530000    1.220000    2.500000   \n",
       "25%               1.0     ...        2.300000    1.570000    3.400000   \n",
       "50%               1.0     ...        3.400000    2.200000    3.600000   \n",
       "75%               1.0     ...        6.500000    3.250000    4.200000   \n",
       "max               1.0     ...       15.000000    7.000000    6.500000   \n",
       "\n",
       "              VCA         GBH         GBD         GBA         BSH         BSD  \\\n",
       "count  304.000000  190.000000  190.000000  190.000000  190.000000  190.000000   \n",
       "mean     4.551069    2.392947    3.662474    4.343368    2.397632    3.684053   \n",
       "std      2.868960    0.955835    0.563964    2.575171    0.972655    0.566474   \n",
       "min      1.500000    1.220000    3.200000    1.530000    1.220000    3.200000   \n",
       "25%      2.300000    1.550000    3.250000    2.250000    1.530000    3.250000   \n",
       "50%      3.400000    2.100000    3.400000    3.350000    2.100000    3.500000   \n",
       "75%      6.500000    3.100000    3.800000    6.000000    3.100000    3.900000   \n",
       "max     17.000000    5.750000    6.000000   13.000000    6.000000    6.000000   \n",
       "\n",
       "              BSA  \n",
       "count  190.000000  \n",
       "mean     4.459421  \n",
       "std      2.710153  \n",
       "min      1.530000  \n",
       "25%      2.300000  \n",
       "50%      3.400000  \n",
       "75%      6.000000  \n",
       "max     13.000000  \n",
       "\n",
       "[8 rows x 105 columns]"
      ]
     },
     "execution_count": 6,
     "metadata": {},
     "output_type": "execute_result"
    }
   ],
   "source": [
    "tot_matches.describe()"
   ]
  },
  {
   "cell_type": "code",
   "execution_count": 7,
   "metadata": {
    "collapsed": true
   },
   "outputs": [],
   "source": [
    "home_games = tot_matches[tot_matches.home_team_api_id == 8586]\n",
    "away_games = tot_matches[tot_matches.away_team_api_id == 8586]"
   ]
  },
  {
   "cell_type": "code",
   "execution_count": 8,
   "metadata": {
    "collapsed": true
   },
   "outputs": [],
   "source": [
    "goals = home_games['home_team_goal'].append(away_games['away_team_goal'])"
   ]
  },
  {
   "cell_type": "code",
   "execution_count": 9,
   "metadata": {},
   "outputs": [
    {
     "data": {
      "image/png": "[encoded data removed]",
      "text/plain": [
       "<matplotlib.figure.Figure at 0x189712c82e8>"
      ]
     },
     "metadata": {},
     "output_type": "display_data"
    }
   ],
   "source": [
    "import matplotlib.pyplot as plot\n",
    "import matplotlib.mlab as mlab\n",
    "import matplotlib.dates as dates\n",
    "\n",
    "\n",
    "plot.hist(goals, bins = max(goals), color=\"navy\")\n",
    "plot.xlabel(\"Goals Scored by Tottenham (Per Match)\")\n",
    "plot.ylabel(\"Count\")\n",
    "plot.title(\"Distrubution of Tottenham Goals\")\n",
    "plot.show()"
   ]
  },
  {
   "cell_type": "markdown",
   "metadata": {},
   "source": [
    "Here is a timeseries of goals scored:"
   ]
  },
  {
   "cell_type": "code",
   "execution_count": 10,
   "metadata": {
    "collapsed": true
   },
   "outputs": [],
   "source": [
    "goals_by_date = home_games[['home_team_goal', 'date']].append(away_games[['away_team_goal', 'date']])"
   ]
  },
  {
   "cell_type": "code",
   "execution_count": 11,
   "metadata": {
    "collapsed": true
   },
   "outputs": [],
   "source": [
    "goals_by_date['goal'] = goals_by_date['home_team_goal'].fillna(goals_by_date['away_team_goal'])"
   ]
  },
  {
   "cell_type": "code",
   "execution_count": 12,
   "metadata": {
    "collapsed": true,
    "scrolled": true
   },
   "outputs": [],
   "source": [
    "goals_by_date['date'] = pd.to_datetime(goals_by_date['date'])\n",
    "g_series = pd.Series(goals_by_date['goal'].values, index = goals_by_date['date'])\n"
   ]
  },
  {
   "cell_type": "code",
   "execution_count": 13,
   "metadata": {},
   "outputs": [
    {
     "data": {
      "image/png": "[encoded data removed]",
      "text/plain": [
       "<matplotlib.figure.Figure at 0x18975ab6978>"
      ]
     },
     "metadata": {},
     "output_type": "display_data"
    }
   ],
   "source": [
    "g_series.plot(color = \"lightblue\")\n",
    "plot.xlabel(\"Match Date\")\n",
    "plot.ylabel(\"Goals per Match\")\n",
    "plot.title(\"Time Series of Goals Scored by Tottenham\")\n",
    "plot.show()"
   ]
  },
  {
   "cell_type": "markdown",
   "metadata": {},
   "source": [
    "There is clearly alot of variation. However it seems to hover around 2. Which makes sense given the mean:"
   ]
  },
  {
   "cell_type": "code",
   "execution_count": 14,
   "metadata": {},
   "outputs": [
    {
     "data": {
      "text/plain": [
       "1.582236842105263"
      ]
     },
     "execution_count": 14,
     "metadata": {},
     "output_type": "execute_result"
    }
   ],
   "source": [
    "import numpy as np\n",
    "np.mean(goals)"
   ]
  },
  {
   "cell_type": "markdown",
   "metadata": {},
   "source": [
    "# Part 2: Revise an Academic Study with a Computational Technique"
   ]
  },
  {
   "cell_type": "markdown",
   "metadata": {},
   "source": [
    "In \"The Economic Payoff of Name Americanization\", published in the _Journal of Labor Economics_ Biavaschi et al. (2016) utilize immigration records to show that individuals who choose to Americanize their names during the immigration process have better economic outcomes in the long-run. While the paper makes a strong case for it's finding, the authors could also have implemented a game theoretic approach that could have taken advantage of human computation to further bolster their results.\n",
    "\n",
    "Specifically, the authors could have created an MTurk HIT that would emulate a budget allocation game. Specifically, Turker's could be randomly asked to divide some budget, $\\$M$, between themselves and another individual given only their name. The game would require that they atleast allocate \\$1 to the other individual. Some, individuals would randomly recieve the americanized name, while others would recieve the original name. Of course, a fully rational individual would take the entire budget, save the $1 they are required to allocate. However, baed on previous research by Habyarimana et al. (2007) would suggest that the name will have an effect on allocation. Additionally, if an effect were found, we could create a measure based on the difference of the edited and original name (this could be done with some custom form of Word2Vec) and the average difference in allocation. Thus, we can use a human experiment in combination with the data aready used in the study to compute the effect changing a name has on earning potential. \n",
    "\n",
    "This would lead to an improved study as it would be going beyond traditional econometric technique of evaluatng corellation and causation to actually preforming a randomized control trial to infer causation. Thus, it would greatly  increase the robustness of the results. Also, this works to add a behavioral component to the paper, which might allow for broader implications. As this would now be incorporating behavioral insights into labor market research.\n",
    "\n",
    "### References\n",
    "\n",
    "Costanza Biavaschi, Corrado Giulietti, and Zahra Siddique, \"The Economic Payoff of Name Americanization,\" Journal of Labor Economics 35, no. 4 (October 2017): 1089-1116.\n",
    "\n",
    "Habyarimana, James, Macartan Humphreys, Daniel N. Posner, and Jeremy M. Weinstein. \"Why does ethnic diversity undermine public goods provision?.\" American Political Science Review 101, no. 4 (2007): 709-725."
   ]
  },
  {
   "cell_type": "markdown",
   "metadata": {},
   "source": [
    "# Part 3: Amazon MTurk\n",
    "\n",
    "Below are screenshots of my MTurk account's HITs and qualifications page (If they do not appear they are also included in pull request/submision folder). Notice that not all these HITs have been accepted by the Requester at the time of this submission."
   ]
  },
  {
   "cell_type": "markdown",
   "metadata": {},
   "source": [
    "<img src='mturk_account.png'>"
   ]
  },
  {
   "cell_type": "markdown",
   "metadata": {
    "collapsed": true
   },
   "source": [
    "<img src=\"mturk_qualifications.png\" />"
   ]
  }
 ],
 "metadata": {
  "kernelspec": {
   "display_name": "Python 3",
   "language": "python",
   "name": "python3"
  },
  "language_info": {
   "codemirror_mode": {
    "name": "ipython",
    "version": 3
   },
   "file_extension": ".py",
   "mimetype": "text/x-python",
   "name": "python",
   "nbconvert_exporter": "python",
   "pygments_lexer": "ipython3",
   "version": "3.6.1"
  }
 },
 "nbformat": 4,
 "nbformat_minor": 2
}
