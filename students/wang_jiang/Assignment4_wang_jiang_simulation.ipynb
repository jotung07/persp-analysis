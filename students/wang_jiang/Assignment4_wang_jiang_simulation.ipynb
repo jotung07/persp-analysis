{
 "cells": [
  {
   "cell_type": "markdown",
   "metadata": {},
   "source": [
    "# Simulating your income "
   ]
  },
  {
   "cell_type": "markdown",
   "metadata": {},
   "source": [
    "##### Jiang Wang"
   ]
  },
  {
   "cell_type": "markdown",
   "metadata": {},
   "source": [
    "#### Import packages"
   ]
  },
  {
   "cell_type": "code",
   "execution_count": 1,
   "metadata": {},
   "outputs": [
    {
     "name": "stderr",
     "output_type": "stream",
     "text": [
      "D:\\Users\\Jiang\\Anaconda3\\lib\\site-packages\\ggplot\\utils.py:81: FutureWarning: pandas.tslib is deprecated and will be removed in a future version.\n",
      "You can access Timestamp as pandas.Timestamp\n",
      "  pd.tslib.Timestamp,\n",
      "D:\\Users\\Jiang\\Anaconda3\\lib\\site-packages\\ggplot\\stats\\smoothers.py:4: FutureWarning: The pandas.lib module is deprecated and will be removed in a future version. These are private functions and can be accessed from pandas._libs.lib instead\n",
      "  from pandas.lib import Timestamp\n",
      "D:\\Users\\Jiang\\Anaconda3\\lib\\site-packages\\statsmodels\\compat\\pandas.py:56: FutureWarning: The pandas.core.datetools module is deprecated and will be removed in a future version. Please use the pandas.tseries module instead.\n",
      "  from pandas.core import datetools\n"
     ]
    }
   ],
   "source": [
    "import numpy as np\n",
    "import pandas as pd\n",
    "import matplotlib.pyplot as plt\n",
    "from matplotlib.ticker import MultipleLocator\n",
    "import matplotlib.mlab as mlab\n",
    "import scipy.stats as sstats\n",
    "from ggplot import *"
   ]
  },
  {
   "cell_type": "markdown",
   "metadata": {},
   "source": [
    "## Question 1"
   ]
  },
  {
   "cell_type": "markdown",
   "metadata": {},
   "source": [
    "Let the standard deviation of your income process be σ = 0.1, let the persistence be ρ = 0.2,\n",
    "let the long-run growth rate of income be g = 0.03, and let the average initial income be inc0 = $80, 000.\n",
    "Assume you will work for 40 years after you graduate (2019 to 2058). Simulate 10,000 different\n",
    "realizations of your lifetime income. Do this by first drawing 10,000 sets of 40 normally distributed\n",
    "errors with mean 0 and standard deviation σ = 0.1. Then plug those into the income process defined\n",
    "above to simulate your lifetime income. Plot one of the lifetime income paths. Make sure your axes are\n",
    "correctly labeled and your plot has a title."
   ]
  },
  {
   "cell_type": "code",
   "execution_count": 2,
   "metadata": {
    "collapsed": true
   },
   "outputs": [],
   "source": [
    "# define the initial statistics\n",
    "profileA = {\n",
    "    'inc_0'       : 80000,       # average initial income for MACSS graudates\n",
    "    'g'           : 0.03,        # long run annual growth rate for the annual salary\n",
    "    'rho'         : 0.2,         # persistence coefficient\n",
    "    'st_year'     : int(2019),   # start years\n",
    "    'w_years'     : 40,          # years to work\n",
    "    'mean'        : 0,           # expectation of errors\n",
    "    'SD'          : 0.1,         # standard deviation\n",
    "    'num_draws'   : 10000        # number of simulations\n",
    "}"
   ]
  },
  {
   "cell_type": "markdown",
   "metadata": {},
   "source": [
    "#### simulation function"
   ]
  },
  {
   "cell_type": "code",
   "execution_count": 3,
   "metadata": {
    "collapsed": true
   },
   "outputs": [],
   "source": [
    "def sim(p):\n",
    "    \n",
    "    # set random seed\n",
    "    np.random.seed(127)\n",
    "    \n",
    "    # set random errors\n",
    "    # 10,000 sets of 40 normally distributed errors\n",
    "    n_errors = np.random.normal(p['mean'], p['SD'], (p['w_years'], p['num_draws']))\n",
    "    \n",
    "    # create a matrix of 0 - dim (c_years, num_draws)\n",
    "    ln_income_mat = np.zeros((p['w_years'], p['num_draws']))\n",
    "    \n",
    "    # fill the matrix\n",
    "    ln_income_mat[0, :] = np.log(p['inc_0']) + n_errors[0, :]\n",
    "    \n",
    "    # loop and apply model\n",
    "    for yr in range(1, p['w_years']):\n",
    "        ln_income_mat[yr, :] = (1 - p['rho']) * (np.log(p['inc_0']) + p['g'] * yr) +\\\n",
    "                                p['rho'] * ln_income_mat[yr - 1, :] + n_errors[yr, :]\n",
    "    \n",
    "    # convert from logrithms to numbers (R)\n",
    "    income_mat = np.exp(ln_income_mat)\n",
    "    \n",
    "    # return matrix\n",
    "    return income_mat"
   ]
  },
  {
   "cell_type": "markdown",
   "metadata": {},
   "source": [
    "#### generate income matrix"
   ]
  },
  {
   "cell_type": "code",
   "execution_count": 4,
   "metadata": {
    "collapsed": true
   },
   "outputs": [],
   "source": [
    "income_mat = sim(profileA)"
   ]
  },
  {
   "cell_type": "markdown",
   "metadata": {},
   "source": [
    "##### Create Indexes"
   ]
  },
  {
   "cell_type": "code",
   "execution_count": 5,
   "metadata": {
    "collapsed": true
   },
   "outputs": [],
   "source": [
    "years = np.arange(profileA['st_year'], profileA['st_year'] + profileA['w_years']).tolist()\n",
    "# years should be a list"
   ]
  },
  {
   "cell_type": "markdown",
   "metadata": {},
   "source": [
    "##### Transform Numpy Arrays Into Useful Dataframe"
   ]
  },
  {
   "cell_type": "code",
   "execution_count": 6,
   "metadata": {
    "collapsed": true,
    "scrolled": true
   },
   "outputs": [],
   "source": [
    "pdincome = pd.DataFrame(income_mat).T\n",
    "# why assign to columns instead of rows?\n",
    "pdincome.columns = years\n",
    "pdincome = pdincome.T\n",
    "pdincome['year'] = pdincome.index\n",
    "pmelt = pd.melt(pdincome, id_vars='year', var_name='id')"
   ]
  },
  {
   "cell_type": "markdown",
   "metadata": {},
   "source": [
    "##### Data Selection (by individual)"
   ]
  },
  {
   "cell_type": "code",
   "execution_count": 7,
   "metadata": {
    "collapsed": true
   },
   "outputs": [],
   "source": [
    "# Select the 501th person\n",
    "individual = 500\n",
    "pidata = pmelt.loc[lambda s: s.id==individual]"
   ]
  },
  {
   "cell_type": "code",
   "execution_count": 8,
   "metadata": {
    "scrolled": true
   },
   "outputs": [
    {
     "data": {
      "image/png": "[encoded data removed]",
      "text/plain": [
       "<matplotlib.figure.Figure at 0x1461e120390>"
      ]
     },
     "metadata": {},
     "output_type": "display_data"
    },
    {
     "data": {
      "text/plain": [
       "<ggplot: (-9223371949313283836)>"
      ]
     },
     "execution_count": 8,
     "metadata": {},
     "output_type": "execute_result"
    }
   ],
   "source": [
    "ggplot(aes(x='year', y='value'), data=pidata) +\\\n",
    "    geom_line(color = \"blue\", size = 1) +\\\n",
    "    geom_point(size = 10) +\\\n",
    "    labs(title = f'Simulated MACSS Graduates Lifetime Income (2019 - 2058): Id={individual}',\n",
    "       x = r'Year $t$', y = r'Annual income (\\$s)')"
   ]
  },
  {
   "cell_type": "markdown",
   "metadata": {},
   "source": [
    "# Question 2"
   ]
  },
  {
   "cell_type": "markdown",
   "metadata": {},
   "source": [
    "Plot a histogram with 50 bins of year t = 2019 initial income for each of the 10,000 simulations. What percent of your class will earn more than \\$100,000 in the first year out of the program? What percent of the class will earn less than $70,000? Is the distribution normally distributed (i.e. symmetric and bell-curved)?"
   ]
  },
  {
   "cell_type": "markdown",
   "metadata": {},
   "source": [
    "##### I am having some problems calling stat_function (not defined). I suspect there may be some errors in the ggplot package in python, and therefore I use matplot here instead."
   ]
  },
  {
   "cell_type": "markdown",
   "metadata": {},
   "source": [
    "##### Calculate mu(mean), sigma(sd)"
   ]
  },
  {
   "cell_type": "code",
   "execution_count": 9,
   "metadata": {
    "collapsed": true
   },
   "outputs": [],
   "source": [
    "s_year = 2019"
   ]
  },
  {
   "cell_type": "code",
   "execution_count": 10,
   "metadata": {
    "scrolled": true
   },
   "outputs": [],
   "source": [
    "income2019 = income_mat[s_year-2019, :]\n",
    "mu = np.mean(income2019)\n",
    "sigma = (np.var(income2019))**0.5"
   ]
  },
  {
   "cell_type": "markdown",
   "metadata": {},
   "source": [
    "##### Plotting"
   ]
  },
  {
   "cell_type": "code",
   "execution_count": 11,
   "metadata": {
    "scrolled": true
   },
   "outputs": [
    {
     "data": {
      "image/png": "[encoded data removed]",
      "text/plain": [
       "<matplotlib.figure.Figure at 0x1461e1e1e48>"
      ]
     },
     "metadata": {},
     "output_type": "display_data"
    }
   ],
   "source": [
    "fig, ax = plt.subplots()\n",
    "\n",
    "n, bins, patches = ax.hist(x=income2019, bins=50, normed=1)\n",
    "\n",
    "ax.plot(bins, mlab.normpdf(bins, mu, sigma), '--')\n",
    "ax.set_xlabel(r'Annual income (\\$s)')\n",
    "ax.set_ylabel('Density')\n",
    "ax.set_title(f'Distribution of Simulated MACSS Graudates Income in {s_year}',fontsize=15)\n",
    "\n",
    "fig.tight_layout()\n",
    "plt.show()"
   ]
  },
  {
   "cell_type": "markdown",
   "metadata": {},
   "source": [
    "#### Normally Distributed?"
   ]
  },
  {
   "cell_type": "markdown",
   "metadata": {},
   "source": [
    "The incomes do appear to be normally distributed because the histogram fits the dashed normal curve well."
   ]
  },
  {
   "cell_type": "markdown",
   "metadata": {},
   "source": [
    "#### Percentile Calculation"
   ]
  },
  {
   "cell_type": "code",
   "execution_count": 12,
   "metadata": {},
   "outputs": [
    {
     "data": {
      "text/plain": [
       "8.8499999999999996"
      ]
     },
     "execution_count": 12,
     "metadata": {},
     "output_type": "execute_result"
    }
   ],
   "source": [
    "sstats.percentileofscore(income2019, 70000)"
   ]
  },
  {
   "cell_type": "code",
   "execution_count": 13,
   "metadata": {},
   "outputs": [
    {
     "data": {
      "text/plain": [
       "1.2800000000000011"
      ]
     },
     "execution_count": 13,
     "metadata": {},
     "output_type": "execute_result"
    }
   ],
   "source": [
    "100 - sstats.percentileofscore(income2019, 100000)"
   ]
  },
  {
   "cell_type": "markdown",
   "metadata": {},
   "source": [
    "Based on the above calculations, in this simulated data, about 8.85% of the class will earn less than \\$70,000, and about 1.28%  will earn more than \\$100,000 in their first year out of the program."
   ]
  },
  {
   "cell_type": "markdown",
   "metadata": {},
   "source": [
    "# Question 3"
   ]
  },
  {
   "cell_type": "markdown",
   "metadata": {},
   "source": [
    "Suppose you graduate from the MACSS program with $95,000 of zero-interest debt. You\n",
    "will use 10% of your annual salary after you graduate to pay off this loan. Plot the histogram of how\n",
    "many years it takes to pay off the loan in each of your 10,000 simulations. This histogram will only\n",
    "have as many bins as you have unique years in which people pay off their debt. In what percent of the\n",
    "simulations are you able to pay off the loan in 10 years (on or before t = 2028)?"
   ]
  },
  {
   "cell_type": "code",
   "execution_count": 14,
   "metadata": {
    "collapsed": true
   },
   "outputs": [],
   "source": [
    "debt = 95000\n",
    "rate = 0.1\n",
    "cum_payment = np.zeros(profileA['num_draws'])\n",
    "debt_years = np.zeros(profileA['num_draws'])"
   ]
  },
  {
   "cell_type": "code",
   "execution_count": 15,
   "metadata": {},
   "outputs": [],
   "source": [
    "for i in range(profileA['num_draws']):\n",
    "    for j in range(profileA['w_years']):\n",
    "        cum_payment[i] += rate * income_mat[j, i]\n",
    "        if cum_payment[i] >= 95000:\n",
    "            debt_years[i] = profileA['st_year'] + j\n",
    "            break  "
   ]
  },
  {
   "cell_type": "markdown",
   "metadata": {},
   "source": [
    "##### plotting"
   ]
  },
  {
   "cell_type": "code",
   "execution_count": 16,
   "metadata": {
    "scrolled": true
   },
   "outputs": [
    {
     "data": {
      "image/png": "[encoded data removed]",
      "text/plain": [
       "<matplotlib.figure.Figure at 0x1461ea10f28>"
      ]
     },
     "metadata": {},
     "output_type": "display_data"
    }
   ],
   "source": [
    "%matplotlib inline\n",
    "fig, ax = plt.subplots()\n",
    "\n",
    "plt.hist(debt_years, np.arange(min(debt_years)-.5, max(debt_years) + 1))\n",
    "\n",
    "plt.xlabel(r'Year of Full Payment $t$')\n",
    "plt.ylabel('Frequencies')\n",
    "plt.title(f'Histogram of Year of Full Payment [debt = {debt}]')\n",
    "plt.xticks(np.arange(min(debt_years), max(debt_years) + 1))\n",
    "\n",
    "fig.tight_layout()\n",
    "plt.show()"
   ]
  },
  {
   "cell_type": "markdown",
   "metadata": {},
   "source": [
    "In what percent of the simulations are you able to pay off the loan in 10 years (on or before 2028)?"
   ]
  },
  {
   "cell_type": "code",
   "execution_count": 17,
   "metadata": {},
   "outputs": [
    {
     "data": {
      "text/plain": [
       "0.1844"
      ]
     },
     "execution_count": 17,
     "metadata": {},
     "output_type": "execute_result"
    }
   ],
   "source": [
    "len(list(i for i in debt_years if i<= 2028))/len(debt_years)"
   ]
  },
  {
   "cell_type": "markdown",
   "metadata": {},
   "source": [
    "18.44% of the simulations are able to pay off the loan in 10 years (on or before 2028)"
   ]
  },
  {
   "cell_type": "markdown",
   "metadata": {},
   "source": [
    "# Question 4"
   ]
  },
  {
   "cell_type": "markdown",
   "metadata": {},
   "source": [
    "Now suppose that the UChicago MACSS program becomes very well known in the next\n",
    "year, and the skills you are learning are demanded more by employers. This increases the average\n",
    "starting salary to inc0 = \\$85, 000, but the standard deviation in incomes increases also to σ = 0.15.\n",
    "Plot the new histogram of how many years it takes to pay off your loan of \\$95,000 in your new 10,000\n",
    "simulations with the new standard deviation and the new average initial salary. In what percent of the\n",
    "simulations are you able to pay off the loan in 10 years (on or before t = 2028)?"
   ]
  },
  {
   "cell_type": "code",
   "execution_count": 18,
   "metadata": {
    "collapsed": true
   },
   "outputs": [],
   "source": [
    "# define new statistics\n",
    "profileB = {\n",
    "    'inc_0'       : 85000,       # average initial income for MACSS graudates\n",
    "    'g'           : 0.03,        # long run annual growth rate for the annual salary\n",
    "    'rho'         : 0.2,         # persistence coefficient\n",
    "    'st_year'     : int(2019),   # start years\n",
    "    'w_years'     : 40,          # years to work\n",
    "    'mean'        : 0,           # expectation of errors\n",
    "    'SD'          : 0.15,         # standard deviation\n",
    "    'num_draws'   : 10000        # number of simulations\n",
    "}"
   ]
  },
  {
   "cell_type": "code",
   "execution_count": 19,
   "metadata": {
    "collapsed": true
   },
   "outputs": [],
   "source": [
    "income_matB = sim(profileB)"
   ]
  },
  {
   "cell_type": "code",
   "execution_count": 20,
   "metadata": {
    "collapsed": true
   },
   "outputs": [],
   "source": [
    "debt = 95000\n",
    "rate = 0.10\n",
    "cum_paymentB = np.zeros(profileA['num_draws'])\n",
    "debt_yearsB = np.zeros(profileA['num_draws'])\n",
    "for i in range(profileB['num_draws']):\n",
    "    for j in range(profileB['w_years']):\n",
    "        cum_paymentB[i] += rate * income_matB[j, i]\n",
    "        if cum_paymentB[i] >= 95000:\n",
    "            debt_yearsB[i] = profileB['st_year'] + j\n",
    "            break  "
   ]
  },
  {
   "cell_type": "code",
   "execution_count": 21,
   "metadata": {
    "scrolled": true
   },
   "outputs": [
    {
     "data": {
      "image/png": "[encoded data removed]",
      "text/plain": [
       "<matplotlib.figure.Figure at 0x1461e962e48>"
      ]
     },
     "metadata": {},
     "output_type": "display_data"
    }
   ],
   "source": [
    "fig, ax = plt.subplots()\n",
    "\n",
    "plt.hist(debt_yearsB, np.arange(min(debt_yearsB)-.5, max(debt_yearsB) + 1))\n",
    "\n",
    "plt.xlabel(r'Year of Full Payment $t$')\n",
    "plt.ylabel('Frequencies')\n",
    "plt.title(f'Histogram of Year of Full Payment [debt = {debt}]')\n",
    "plt.xticks(np.arange(min(debt_yearsB), max(debt_yearsB) + 1))\n",
    "\n",
    "fig.tight_layout()\n",
    "plt.show()"
   ]
  },
  {
   "cell_type": "markdown",
   "metadata": {},
   "source": [
    "In what percent of the simulations are you able to pay off the loan in 10 years (on or before 2028)?"
   ]
  },
  {
   "cell_type": "code",
   "execution_count": 22,
   "metadata": {},
   "outputs": [
    {
     "data": {
      "text/plain": [
       "0.6976"
      ]
     },
     "execution_count": 22,
     "metadata": {},
     "output_type": "execute_result"
    }
   ],
   "source": [
    "len(list(i for i in debt_yearsB if i<= 2028))/len(debt_years)"
   ]
  },
  {
   "cell_type": "markdown",
   "metadata": {},
   "source": [
    "69.76% of the simulations are able to pay off the loan in 10 years (on or before 2028)"
   ]
  }
 ],
 "metadata": {
  "kernelspec": {
   "display_name": "Python 3",
   "language": "python",
   "name": "python3"
  },
  "language_info": {
   "codemirror_mode": {
    "name": "ipython",
    "version": 3
   },
   "file_extension": ".py",
   "mimetype": "text/x-python",
   "name": "python",
   "nbconvert_exporter": "python",
   "pygments_lexer": "ipython3",
   "version": "3.6.1"
  }
 },
 "nbformat": 4,
 "nbformat_minor": 2
}
