{
 "cells": [
  {
   "cell_type": "code",
   "execution_count": 82,
   "metadata": {
    "collapsed": true
   },
   "outputs": [],
   "source": [
    "#MACS 30000 HW4\n",
    "#Fangfang Wan\n",
    "#Some answers are included as comments.\n",
    "\n",
    "import numpy as np\n",
    "import matplotlib.pyplot as plt\n",
    "from matplotlib.ticker import MultipleLocator"
   ]
  },
  {
   "cell_type": "code",
   "execution_count": 83,
   "metadata": {},
   "outputs": [],
   "source": [
    "# Simulation functions, require a simulation profile, structured as a dictionary\n",
    "# p = {\n",
    "#          'inc_0':       average starting income for MACSS students,\n",
    "#          'sigma':       standard deviation of log(error),\n",
    "#          'mu':          mean of log(error),\n",
    "#          'rho':         persistance,\n",
    "#          'gr':          growth rate of income,       \n",
    "#          'start_yr':    start year,    \n",
    "#          'working_yrs': years to work,\n",
    "#          'num_draws':   number of simulations }\n",
    "\n",
    "def income_simulation(p):\n",
    "    \n",
    "    #set random seed\n",
    "    np.random.seed(524)\n",
    "    \n",
    "    #error matrix\n",
    "    error_array = np.random.normal(p['mu'], p['sigma'], (p['working_yrs'], p['num_draws']))\n",
    "\n",
    "    #create a matrix of incomes(working_yrs, num_draws)\n",
    "    ln_income_mat = np.zeros((p['working_yrs'], p['num_draws']))\n",
    "    \n",
    "    #fill the matrix\n",
    "    ln_income_mat[0, :] = np.log(p['inc_0']) + error_array[0, :]\n",
    "    \n",
    "    #loop and apply model\n",
    "    for yr in range(1, p['working_yrs']):\n",
    "        ln_income_mat[yr, :] = (1 - p[\"rho\"]) * ((np.log(p[\"inc_0\"])) + p[\"gr\"] * yr) + \\\n",
    "                               p[\"rho\"] * ln_income_mat[yr - 1, : ] + error_array[yr, : ]\n",
    "\n",
    "\n",
    "    income_mat = np.exp(ln_income_mat)\n",
    "    return income_mat\n",
    "\n",
    "def find_pay_year_array(p):\n",
    "    income_mat = income_simulation(p)\n",
    "    pay_year = []\n",
    "    for person_index in range(0, 10000):\n",
    "        for year in range (0, 40):\n",
    "            paid_income = sum(income_mat[: year + 1, person_index] )* 0.1\n",
    "            if paid_income > 95000:\n",
    "                year = year + 1\n",
    "                pay_year.append(year)\n",
    "                break\n",
    "    return pay_year\n",
    "\n",
    "def find_in_10_years_ratio(p):\n",
    "    pay_year = find_pay_year_array(p)\n",
    "    in_10_years_count = 0\n",
    "    for year in pay_year:\n",
    "        if year <= 10:\n",
    "            in_10_years_count += 1\n",
    "            in_10_years_ratio = in_10_years_count/p['num_draws']\n",
    "    return in_10_years_ratio"
   ]
  },
  {
   "cell_type": "code",
   "execution_count": 88,
   "metadata": {},
   "outputs": [
    {
     "data": {
      "text/plain": [
       "Text(0,0.5,'Annual income (\\\\$s)')"
      ]
     },
     "execution_count": 88,
     "metadata": {},
     "output_type": "execute_result"
    },
    {
     "data": {
      "image/png": "[encoded data removed]",
      "text/plain": [
       "<matplotlib.figure.Figure at 0x12517cac8>"
      ]
     },
     "metadata": {},
     "output_type": "display_data"
    }
   ],
   "source": [
    "# Question 1\n",
    "simulation_profile = {\n",
    "         'inc_0':       80000,\n",
    "         'sigma':       0.1,\n",
    "         'mu':          0,\n",
    "         'rho':         0.2,\n",
    "         'gr':          0.03,\n",
    "         'start_yr':    2019,\n",
    "         'working_yrs': 40,\n",
    "         'num_draws':   10000,\n",
    "    }\n",
    "\n",
    "income_mat = income_simulation(simulation_profile)\n",
    "    \n",
    "%matplotlib inline\n",
    "p = simulation_profile\n",
    "year_vec = np.arange(p['start_yr'], p['start_yr'] + p['working_yrs'])\n",
    "individual = 500\n",
    "fig, ax = plt.subplots()\n",
    "plt.plot(year_vec, income_mat[:, individual])\n",
    "minorLocator = MultipleLocator(1)\n",
    "ax.xaxis.set_minor_locator(minorLocator)\n",
    "plt.grid(b=True, which='major', color='0.65', linestyle='-')\n",
    "plt.title('Simulated income of 40 years', fontsize=10)\n",
    "plt.xlabel(r'Year $t$')\n",
    "plt.ylabel(r'Annual income (\\$s)')"
   ]
  },
  {
   "cell_type": "code",
   "execution_count": 85,
   "metadata": {},
   "outputs": [
    {
     "name": "stdout",
     "output_type": "stream",
     "text": [
      "0.0127\n",
      "0.0902\n"
     ]
    },
    {
     "data": {
      "image/png": "[encoded data removed]",
      "text/plain": [
       "<matplotlib.figure.Figure at 0x1257156a0>"
      ]
     },
     "metadata": {},
     "output_type": "display_data"
    }
   ],
   "source": [
    "# Question 2\n",
    "initial_income = income_mat[0]\n",
    "plt.hist(initial_income, bins=50)\n",
    "\n",
    "greater_than_100000_count = 0\n",
    "for income in initial_income:\n",
    "    if income > 100000:\n",
    "        greater_than_100000_count += 1\n",
    "greater_than_100000_ratio = greater_than_100000_count/10000\n",
    "print(greater_than_100000_ratio)\n",
    "\n",
    "smaller_than_70000_count = 0\n",
    "for income in initial_income:\n",
    "    if income < 70000:\n",
    "        smaller_than_70000_count += 1\n",
    "smaller_than_70000_ratio = smaller_than_70000_count/10000\n",
    "print(smaller_than_70000_ratio)"
   ]
  },
  {
   "cell_type": "code",
   "execution_count": 63,
   "metadata": {
    "collapsed": true
   },
   "outputs": [],
   "source": [
    "# Question 2\n",
    "# 1.27% of the class will earn more than $100,000 in the first year, and 9.02% will earn less than\n",
    "# $70,000 in the first year. \n",
    "# The distribution is not normally distrubuted."
   ]
  },
  {
   "cell_type": "code",
   "execution_count": 89,
   "metadata": {},
   "outputs": [
    {
     "data": {
      "text/plain": [
       "(array([  4.00000000e+00,   1.84300000e+03,   7.95200000e+03,\n",
       "          2.01000000e+02]),\n",
       " array([  9.  ,   9.75,  10.5 ,  11.25,  12.  ]),\n",
       " <a list of 4 Patch objects>)"
      ]
     },
     "execution_count": 89,
     "metadata": {},
     "output_type": "execute_result"
    },
    {
     "data": {
      "image/png": "[encoded data removed]",
      "text/plain": [
       "<matplotlib.figure.Figure at 0x125ca0710>"
      ]
     },
     "metadata": {},
     "output_type": "display_data"
    }
   ],
   "source": [
    "# Question 3\n",
    "pay_year = find_pay_year_array(p)\n",
    "years = []\n",
    "for year in pay_year:\n",
    "    if year not in years:\n",
    "        years.append(year)\n",
    "plt.hist(pay_year, bins = len(years))"
   ]
  },
  {
   "cell_type": "code",
   "execution_count": 90,
   "metadata": {},
   "outputs": [
    {
     "name": "stdout",
     "output_type": "stream",
     "text": [
      "0.1847\n"
     ]
    }
   ],
   "source": [
    "# Question 3\n",
    "in_10_years_ratio = find_in_10_years_ratio(p)\n",
    "print(in_10_years_ratio)"
   ]
  },
  {
   "cell_type": "code",
   "execution_count": 66,
   "metadata": {
    "collapsed": true
   },
   "outputs": [],
   "source": [
    "# Question 3\n",
    "# 18.47% of the simulations are able to pay off the loan oin 10 years."
   ]
  },
  {
   "cell_type": "code",
   "execution_count": 91,
   "metadata": {},
   "outputs": [
    {
     "data": {
      "text/plain": [
       "(array([    7.,   719.,  6294.,  2925.,    55.]),\n",
       " array([  8. ,   8.8,   9.6,  10.4,  11.2,  12. ]),\n",
       " <a list of 5 Patch objects>)"
      ]
     },
     "execution_count": 91,
     "metadata": {},
     "output_type": "execute_result"
    },
    {
     "data": {
      "image/png": "[encoded data removed]",
      "text/plain": [
       "<matplotlib.figure.Figure at 0x125d21dd8>"
      ]
     },
     "metadata": {},
     "output_type": "display_data"
    }
   ],
   "source": [
    "# Question 4\n",
    "simulation_profile_2 = {\n",
    "         'inc_0':       85000,\n",
    "         'sigma':       0.15,\n",
    "         'mu':          0,\n",
    "         'rho':         0.2,\n",
    "         'gr':          0.03,\n",
    "         'start_yr':    2019,\n",
    "         'working_yrs': 40,\n",
    "         'num_draws':   10000,\n",
    "    }\n",
    "p = simulation_profile_2\n",
    "pay_year = find_pay_year_array(p)\n",
    "years = []\n",
    "for year in pay_year:\n",
    "    if year not in years:\n",
    "        years.append(year)\n",
    "plt.hist(pay_year, bins = len(years))"
   ]
  },
  {
   "cell_type": "code",
   "execution_count": 92,
   "metadata": {},
   "outputs": [
    {
     "name": "stdout",
     "output_type": "stream",
     "text": [
      "0.702\n"
     ]
    }
   ],
   "source": [
    "# Question 4\n",
    "in_10_years_ratio = find_in_10_years_ratio(p)\n",
    "print(in_10_years_ratio)"
   ]
  },
  {
   "cell_type": "code",
   "execution_count": 30,
   "metadata": {
    "collapsed": true
   },
   "outputs": [],
   "source": [
    "# Question 4\n",
    "# 70.2% of the simulations are able to pay off the loan in 10 years."
   ]
  },
  {
   "cell_type": "code",
   "execution_count": null,
   "metadata": {
    "collapsed": true
   },
   "outputs": [],
   "source": [
    "# References:\n",
    "# 1. (2017, Nov 5). How to plot histogram from array in Python?. Stack Overflow. Retrieved from\\\n",
    "#     https://stackoverflow.com/questions/40316636/how-to-plot-histogram-from-array-in-python\n",
    "# 2. jmausolf (2017, Nov 3) Simulation example. Github. Retrieved from \\\n",
    "#     https://github.com/UC-MACSS/persp-analysis/blob/master/labs/Python_Simulation_Lab.ipynb\n",
    "# 3. (2015) Histograms in matplotlib. Plotly. Retrieved from https://plot.ly/matplotlib/histograms/"
   ]
  }
 ],
 "metadata": {
  "kernelspec": {
   "display_name": "Python 3",
   "language": "python",
   "name": "python3"
  },
  "language_info": {
   "codemirror_mode": {
    "name": "ipython",
    "version": 3
   },
   "file_extension": ".py",
   "mimetype": "text/x-python",
   "name": "python",
   "nbconvert_exporter": "python",
   "pygments_lexer": "ipython3",
   "version": "3.6.3"
  }
 },
 "nbformat": 4,
 "nbformat_minor": 2
}
