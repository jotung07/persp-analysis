{
 "cells": [
  {
   "cell_type": "markdown",
   "metadata": {},
   "source": [
    "# Assignment 4: Simulate Your Income\n",
    "Xiuyuan Zhang"
   ]
  },
  {
   "cell_type": "code",
   "execution_count": 134,
   "metadata": {},
   "outputs": [],
   "source": [
    "import numpy as np\n",
    "import matplotlib.pyplot as plt\n",
    "from matplotlib.ticker import MultipleLocator\n",
    "import scipy.stats as stats"
   ]
  },
  {
   "cell_type": "markdown",
   "metadata": {},
   "source": [
    "## Problem 1\n",
    "First, I define a function that simulate the income given a dictionary that provides parameters for the simulation. "
   ]
  },
  {
   "cell_type": "code",
   "execution_count": 135,
   "metadata": {},
   "outputs": [],
   "source": [
    "def simulate_income(p):\n",
    "    '''\n",
    "    Simulate income\n",
    "    \n",
    "    Input: p: a dictionary\n",
    "           p = {'sigma': 0.1,        #standard deviation\n",
    "                'rho': 0.2,          #persistence\n",
    "                'gamma': 0.03,       #long-run growth rate for annual salary\n",
    "                'income_0': 80000,   #average initial income\n",
    "                't_0': 2019,         #starting year\n",
    "                't_n': 2058,         #ending year\n",
    "                'num_draws': 10000,  #number of simulations\n",
    "                'mean': 0            #mean\n",
    "                }         \n",
    "    \n",
    "    Returns: income matrix\n",
    "    \n",
    "    '''\n",
    "    np.random.seed(524)\n",
    "    \n",
    "    yrs_working = p['t_n'] - p['t_0'] + 1\n",
    "    income_errors = np.random.normal(p['mean'], p['sigma'], (p['num_draws'], yrs_working))\n",
    "    income_matrix = np.zeros((p['num_draws'], yrs_working))\n",
    "    income_matrix[:, 0] = np.exp(np.log(p['income_0']) + income_errors[:, 0])\n",
    "\n",
    "    for row in range(p['num_draws']):\n",
    "        for yr in range(1, yrs_working):\n",
    "            income_matrix[row, yr] = np.exp((1 - p['rho'])*(np.log(p['income_0'])+ p['gamma']*yr)\\\n",
    "                                    + p['rho']*np.log(income_matrix[row, yr - 1])\\\n",
    "                                    + income_errors[row,yr])\n",
    "    \n",
    "    \n",
    "    return income_matrix\n",
    "\n"
   ]
  },
  {
   "cell_type": "markdown",
   "metadata": {},
   "source": [
    "Then, I create a dictionary that contains parameters for the simulation in accordance to the assignemnt prompt."
   ]
  },
  {
   "cell_type": "code",
   "execution_count": 136,
   "metadata": {},
   "outputs": [],
   "source": [
    "p = {'sigma': 0.1,        #standard deviation\n",
    "    'rho': 0.2,          #persistence\n",
    "    'gamma': 0.03,       #long-run growth rate for annual salary\n",
    "    'income_0': 80000,   #average initial income\n",
    "    't_0': 2019,         #starting year\n",
    "    't_n': 2058,         #ending year\n",
    "    'num_draws': 10000,   #number of simulations\n",
    "    'mean': 0            #mean\n",
    "    }"
   ]
  },
  {
   "cell_type": "markdown",
   "metadata": {},
   "source": [
    "Once the dictionary is created, I can use the simulate_income function to simulate an income matrix."
   ]
  },
  {
   "cell_type": "code",
   "execution_count": 137,
   "metadata": {},
   "outputs": [],
   "source": [
    "income_matrix = simulate_income(p)"
   ]
  },
  {
   "cell_type": "markdown",
   "metadata": {},
   "source": [
    "Finally, I plot the simulation using matplotlib."
   ]
  },
  {
   "cell_type": "code",
   "execution_count": 138,
   "metadata": {},
   "outputs": [
    {
     "data": {
      "image/png": "[encoded data removed]",
      "text/plain": [
       "<matplotlib.figure.Figure at 0x109a77898>"
      ]
     },
     "metadata": {},
     "output_type": "display_data"
    }
   ],
   "source": [
    "tvec = np.linspace(p['t_0'], p['t_n'], p['t_n'] - p['t_0'] + 1)\n",
    "\n",
    "fig, ax = plt.subplots()\n",
    "plt.plot(tvec,income_matrix[1,:], '-o')\n",
    "plt.grid(b = True, which = 'major', color = '0.65', linestyle = '-')\n",
    "minorlocator = MultipleLocator(1)\n",
    "ax.xaxis.set_minor_locator(minorlocator)\n",
    "plt.title(\"Simulation of MACSS Students' Income Post-graduation\")\n",
    "plt.xlabel(r'Year $t$')\n",
    "plt.ylabel(r'Annual Earnings $inc_{t}$')\n",
    "\n",
    "plt.show()"
   ]
  },
  {
   "cell_type": "markdown",
   "metadata": {},
   "source": [
    "## Problem 2"
   ]
  },
  {
   "cell_type": "markdown",
   "metadata": {},
   "source": [
    "I first create a new matrix that contains incomes of all simulations from year 2019 based on the orginal income_matrix. Then, I calculate its mean and standard deviation."
   ]
  },
  {
   "cell_type": "code",
   "execution_count": 139,
   "metadata": {},
   "outputs": [],
   "source": [
    "incomes_2019 = income_matrix[:, 0]\n",
    "mean = np.mean(incomes_2019)\n",
    "sd = np.std(incomes_2019)"
   ]
  },
  {
   "cell_type": "markdown",
   "metadata": {},
   "source": [
    "Next, I plot a histogram using matplotlib.hist based on the incomes_2019 matrix and plot a fitted normal distrubtion curve."
   ]
  },
  {
   "cell_type": "code",
   "execution_count": 153,
   "metadata": {},
   "outputs": [
    {
     "data": {
      "image/png": "[encoded data removed]",
      "text/plain": [
       "<matplotlib.figure.Figure at 0x107b7d7b8>"
      ]
     },
     "metadata": {},
     "output_type": "display_data"
    }
   ],
   "source": [
    "x = np.linspace(min(incomes_2019), max(incomes_2019), 50)\n",
    "fit = stats.norm.pdf(x, mean, sd)\n",
    "plt.plot(x, fit, '-o')\n",
    "plt.hist(incomes_2019, bins = 50, normed = True)\n",
    "plt.xlim(min(incomes_2019), max(incomes_2019))\n",
    "\n",
    "plt.title('MACSS Program Students Income at Year 2019')\n",
    "plt.ylabel('Density')\n",
    "plt.xlabel('Annual Earnings $Inc_{2019}$')\n",
    "plt.grid(True)\n",
    "\n",
    "plt.show()"
   ]
  },
  {
   "cell_type": "markdown",
   "metadata": {},
   "source": [
    "Finally, I calculate the percentage of students whose income are 1) above 100,000 or 2) below 70,000. I also evaluate whether this graph is normally distributed or not."
   ]
  },
  {
   "cell_type": "code",
   "execution_count": 141,
   "metadata": {
    "scrolled": true
   },
   "outputs": [
    {
     "name": "stdout",
     "output_type": "stream",
     "text": [
      "1.45% of MACSS students have an annual income more than 100000 at year 2019, and 8.89% of students have an annual income less than 70000 at the same year, according to this simulation.\n"
     ]
    }
   ],
   "source": [
    "percentage_above_100000 = (np.mean(incomes_2019 > 100000)) \n",
    "percentage_below_70000 = (np.mean(incomes_2019 < 70000))\n",
    "\n",
    "print(\"{:.2f}% of MACSS students have an annual income more than 100000 at year 2019, \\\n",
    "and {:.2f}% of students have an annual income less than 70000 at the same year, \\\n",
    "according to this simulation.\".format(percentage_above_100000 * 100, percentage_below_70000 * 100))"
   ]
  },
  {
   "cell_type": "markdown",
   "metadata": {},
   "source": [
    "Looking at the histogram and its fitted normal distribution, it appears that the income of students at year 2019 is normally distributed and have a bell-curved shape."
   ]
  },
  {
   "cell_type": "markdown",
   "metadata": {},
   "source": [
    "## Problem 3"
   ]
  },
  {
   "cell_type": "markdown",
   "metadata": {},
   "source": [
    "I first create a new matrix that contains the debt information and in accordance with the number of simulations.\n",
    "\n",
    "I then update the debt_matrix with information on the years students work after graduation (40 years) and the percentage of their annual income that they use to pay debt (0.1)."
   ]
  },
  {
   "cell_type": "code",
   "execution_count": 142,
   "metadata": {},
   "outputs": [],
   "source": [
    "debt_matrix = np.zeros(p['num_draws'])\n",
    "debt = 95000\n",
    "rate = 0.1\n",
    "yrs_working = p['t_n'] - p['t_0'] + 1\n",
    "\n",
    "for s in range(p['num_draws']):\n",
    "    current_debt = debt\n",
    "    for t in range(yrs_working):\n",
    "        current_debt -= income_matrix[s, t] * rate\n",
    "        if current_debt <= 0:\n",
    "            debt_matrix[s] = p['t_0'] + t\n",
    "            break"
   ]
  },
  {
   "cell_type": "markdown",
   "metadata": {},
   "source": [
    "Next, I plot the histogram of the years that students pay of their total debts."
   ]
  },
  {
   "cell_type": "code",
   "execution_count": 143,
   "metadata": {
    "scrolled": true
   },
   "outputs": [
    {
     "data": {
      "image/png": "[encoded data removed]",
      "text/plain": [
       "<matplotlib.figure.Figure at 0x1051b5630>"
      ]
     },
     "metadata": {},
     "output_type": "display_data"
    }
   ],
   "source": [
    "bins = np.arange(min(debt_matrix) - 0.5, max(debt_matrix) + 1 )\n",
    "\n",
    "plt.hist(debt_matrix, bins)\n",
    "\n",
    "plt.title('MACSS Students $95,000 Debt Payoff Year')\n",
    "plt.xlabel(r'Year of total payment')\n",
    "plt.ylabel(r'Number of students')\n",
    "plt.xticks(np.arange(debt_matrix.min(), debt_matrix.max() + 1))\n",
    "plt.xlim([np.min(debt_matrix) - 1, np.max(debt_matrix) + 1])\n",
    "\n",
    "plt.show()"
   ]
  },
  {
   "cell_type": "markdown",
   "metadata": {},
   "source": [
    "Finally, I calculate how many students are able to pay off their total debt within 10 or fewer years."
   ]
  },
  {
   "cell_type": "code",
   "execution_count": 144,
   "metadata": {},
   "outputs": [
    {
     "name": "stdout",
     "output_type": "stream",
     "text": [
      "18.42% of students are able to pay off their total debt within 10 or fewer years.\n"
     ]
    }
   ],
   "source": [
    "percentage_10yrs = np.mean(debt_matrix < 2029)\n",
    "print('{}% of students are able to pay off their total debt within 10 or fewer years.'.format(percentage_10yrs * 100))"
   ]
  },
  {
   "cell_type": "markdown",
   "metadata": {},
   "source": [
    "## Problem 4"
   ]
  },
  {
   "cell_type": "markdown",
   "metadata": {},
   "source": [
    "I first create a new dictionary with the updated standard deviation and intial income.\n",
    "\n",
    "I then use simulate_income function with the new dictionary to create an income matrix "
   ]
  },
  {
   "cell_type": "code",
   "execution_count": 145,
   "metadata": {},
   "outputs": [],
   "source": [
    "q = {'sigma': 0.15,        #standard deviation\n",
    "    'rho': 0.2,          #persistence\n",
    "    'gamma': 0.03,       #long-run growth rate for annual salary\n",
    "    'income_0': 85000,   #average initial income\n",
    "    't_0': 2019,         #starting year\n",
    "    't_n': 2058,         #ending year\n",
    "    'num_draws': 10000,   #number of simulations\n",
    "    'mean': 0            #mean\n",
    "    }"
   ]
  },
  {
   "cell_type": "code",
   "execution_count": 146,
   "metadata": {},
   "outputs": [],
   "source": [
    "incomes_matrix_2 = simulate_income(q)"
   ]
  },
  {
   "cell_type": "markdown",
   "metadata": {},
   "source": [
    "Next, I create a new matrix that contains the debt information and in accordance with the number of simulations.\n",
    "\n",
    "After that, I update the debt_matrix with information on the years students work after graduation (40 years) and the percentage of their annual income that they use to pay debt (0.1)."
   ]
  },
  {
   "cell_type": "code",
   "execution_count": 147,
   "metadata": {},
   "outputs": [],
   "source": [
    "new_debt_matrix = incomes_matrix_2[:, 0]\n",
    "debt = 95000\n",
    "rate = 0.1\n",
    "yrs_working = p['t_n'] - p['t_0'] + 1\n",
    "\n",
    "for s in range(p['num_draws']):\n",
    "    current_debt = debt\n",
    "    for t in range(yrs_working):\n",
    "        current_debt -= incomes_matrix_2[s, t] * rate\n",
    "        if current_debt <= 0:\n",
    "            new_debt_matrix[s] = p['t_0'] + t\n",
    "            break\n"
   ]
  },
  {
   "cell_type": "markdown",
   "metadata": {},
   "source": [
    "Next, I plot the histogram of the years that students pay of their total debts."
   ]
  },
  {
   "cell_type": "code",
   "execution_count": 148,
   "metadata": {
    "scrolled": false
   },
   "outputs": [
    {
     "data": {
      "image/png": "[encoded data removed]",
      "text/plain": [
       "<matplotlib.figure.Figure at 0x104897898>"
      ]
     },
     "metadata": {},
     "output_type": "display_data"
    }
   ],
   "source": [
    "bins = np.arange(min(new_debt_matrix) - 0.5, max(new_debt_matrix) + 1 )\n",
    "\n",
    "plt.hist(new_debt_matrix, bins)\n",
    "\n",
    "plt.title('MACSS Students $95,000 Debt Payoff Year')\n",
    "plt.xlabel(r'Year of total payment')\n",
    "plt.ylabel(r'Number of students')\n",
    "plt.xticks(np.arange(new_debt_matrix.min(), new_debt_matrix.max() + 1))\n",
    "plt.xlim([np.min(new_debt_matrix) - 1, np.max(new_debt_matrix) + 1])\n",
    "\n",
    "plt.show()"
   ]
  },
  {
   "cell_type": "markdown",
   "metadata": {},
   "source": [
    "Finally, I calculate how many students are able to pay off their total debt within 10 or fewer years."
   ]
  },
  {
   "cell_type": "code",
   "execution_count": 149,
   "metadata": {},
   "outputs": [
    {
     "name": "stdout",
     "output_type": "stream",
     "text": [
      "70.51% of students are able to pay off their total debt within 10 or fewer years.\n"
     ]
    }
   ],
   "source": [
    "percentage_10yrs = np.mean(new_debt_matrix < 2029)\n",
    "print('{:.2f}% of students are able to pay off their total debt within 10 or fewer years.'.format(percentage_10yrs * 100))"
   ]
  }
 ],
 "metadata": {
  "kernelspec": {
   "display_name": "Python 3",
   "language": "python",
   "name": "python3"
  },
  "language_info": {
   "codemirror_mode": {
    "name": "ipython",
    "version": 3
   },
   "file_extension": ".py",
   "mimetype": "text/x-python",
   "name": "python",
   "nbconvert_exporter": "python",
   "pygments_lexer": "ipython3",
   "version": "3.6.3"
  }
 },
 "nbformat": 4,
 "nbformat_minor": 2
}
