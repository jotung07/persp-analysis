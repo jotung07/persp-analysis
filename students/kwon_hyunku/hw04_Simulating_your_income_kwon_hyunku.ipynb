{
 "cells": [
  {
   "cell_type": "markdown",
   "metadata": {},
   "source": [
    "# hw04\n",
    "# kwon_hyunku"
   ]
  },
  {
   "cell_type": "code",
   "execution_count": 1,
   "metadata": {
    "collapsed": true
   },
   "outputs": [],
   "source": [
    "# import packages\n",
    "\n",
    "import numpy as np\n",
    "import matplotlib.pyplot as plt\n",
    "import matplotlib.mlab as mlab"
   ]
  },
  {
   "cell_type": "markdown",
   "metadata": {
    "collapsed": true
   },
   "source": [
    "# Exercise 1"
   ]
  },
  {
   "cell_type": "code",
   "execution_count": 2,
   "metadata": {
    "collapsed": true
   },
   "outputs": [],
   "source": [
    "# parameter\n",
    "\n",
    "inc0 = 80000 #base income\n",
    "sd = 0.1 #standard deviation\n",
    "per = 0.2 #persistance\n",
    "gr = 0.03 #growth rate\n",
    "\n",
    "begin_year = int(2019) #beginning year\n",
    "life_years = 40 #lifetime working years\n",
    "num_draws = 10000 #number of simulations\n",
    "\n",
    "inc_matrix = (life_years, num_draws) \n",
    "ln_inc = np.zeros(inc_matrix) #empty matrix (40 by 10000)\n",
    "\n",
    "# error term\n",
    "\n",
    "np.random.seed(524)\n",
    "norm_errors = np.random.normal (0, sd, inc_matrix) # normal distribution of errors\n",
    "\n",
    "# 2019 income\n",
    "\n",
    "ln_inc[0, :] = np.log(inc0) + norm_errors[0,:]\n",
    "\n",
    "# following years\n",
    "\n",
    "for yr in range(1,40):\n",
    "    ln_inc[yr,:] = (1 - per)*(np.log(inc0) + gr*yr) + per*ln_inc[yr-1,:] + norm_errors[yr, :]\n",
    "\n",
    "\n",
    "inc = np.exp(ln_inc)\n"
   ]
  },
  {
   "cell_type": "code",
   "execution_count": 3,
   "metadata": {},
   "outputs": [
    {
     "data": {
      "text/plain": [
       "<matplotlib.text.Text at 0x112b2cc50>"
      ]
     },
     "execution_count": 3,
     "metadata": {},
     "output_type": "execute_result"
    },
    {
     "data": {
      "image/png": "[encoded data removed]",
      "text/plain": [
       "<matplotlib.figure.Figure at 0x10fbea6d8>"
      ]
     },
     "metadata": {},
     "output_type": "display_data"
    }
   ],
   "source": [
    "x = range(begin_year, (begin_year+life_years))\n",
    "y = inc[:,10] #chose a random draw\n",
    "\n",
    "%matplotlib inline\n",
    "\n",
    "plt.plot(x,y)\n",
    "plt.xlabel('Year $t$')\n",
    "plt.ylabel('Annual Income ($)')\n",
    "plt.title('Simulated lifetime income path')"
   ]
  },
  {
   "cell_type": "markdown",
   "metadata": {},
   "source": [
    "# Exersise 2: histogram"
   ]
  },
  {
   "cell_type": "code",
   "execution_count": 4,
   "metadata": {},
   "outputs": [
    {
     "name": "stdout",
     "output_type": "stream",
     "text": [
      "The simulated income, in general, looks normally distributed.\n"
     ]
    },
    {
     "data": {
      "image/png": "[encoded data removed]",
      "text/plain": [
       "<matplotlib.figure.Figure at 0x10fbea8d0>"
      ]
     },
     "metadata": {},
     "output_type": "display_data"
    }
   ],
   "source": [
    "#income distribution in 2019\n",
    "\n",
    "start_income = inc[0,:]\n",
    "\n",
    "%matplotlib inline\n",
    "\n",
    "plt.hist(inc[0,:], bins=50)\n",
    "plt.xlabel('Income in 2019')\n",
    "plt.ylabel('Count')\n",
    "plt.title('Simulated income distribution: 2019')\n",
    "\n",
    "print ('The simulated income, in general, looks normally distributed.')"
   ]
  },
  {
   "cell_type": "code",
   "execution_count": 5,
   "metadata": {},
   "outputs": [
    {
     "name": "stdout",
     "output_type": "stream",
     "text": [
      "Percent of students whose first income is more than 100,000 = 1.27 %\n",
      "Percent of students whose first income is less than 70,000 = 9.02 %\n"
     ]
    }
   ],
   "source": [
    "inc2019 = inc[0,:]\n",
    "inc_100k = sum(inc2019>100000)/len(inc2019)\n",
    "inc_70k = sum(inc2019<70000)/len(inc2019)\n",
    "\n",
    "print('Percent of students whose first income is more than 100,000 =', inc_100k*100, '%')\n",
    "print('Percent of students whose first income is less than 70,000 =', inc_70k*100, '%')"
   ]
  },
  {
   "cell_type": "markdown",
   "metadata": {},
   "source": [
    "# Exercise 3: Student Loan Reimbursement (1)"
   ]
  },
  {
   "cell_type": "code",
   "execution_count": 6,
   "metadata": {
    "collapsed": true
   },
   "outputs": [],
   "source": [
    "#student loan\n",
    "ln = 95000\n",
    "payoff = []\n",
    "pay = list(zip(*inc*0.1))\n",
    "\n",
    "for i in range(len(pay)):\n",
    "    for j in range(len(pay[i])):\n",
    "        a = np.cumsum(pay[i][:j + 1])\n",
    "        if a[j] > ln:\n",
    "            payoff.append(j + 1)\n",
    "            break"
   ]
  },
  {
   "cell_type": "code",
   "execution_count": 7,
   "metadata": {
    "scrolled": true
   },
   "outputs": [
    {
     "data": {
      "text/plain": [
       "<matplotlib.text.Text at 0x1140f4a58>"
      ]
     },
     "execution_count": 7,
     "metadata": {},
     "output_type": "execute_result"
    },
    {
     "data": {
      "image/png": "[encoded data removed]",
      "text/plain": [
       "<matplotlib.figure.Figure at 0x10fbea6a0>"
      ]
     },
     "metadata": {},
     "output_type": "display_data"
    }
   ],
   "source": [
    "#histogram\n",
    "\n",
    "%matplotlib inline\n",
    "\n",
    "plt.hist(payoff, bins = len(set(payoff)))\n",
    "plt.xticks(np.arange(min(payoff),max(payoff)))\n",
    "plt.xlabel('Years of Loan Reimbursement')\n",
    "plt.ylabel('Count')\n",
    "plt.title('Student Loan Reimbursement')"
   ]
  },
  {
   "cell_type": "code",
   "execution_count": 8,
   "metadata": {},
   "outputs": [
    {
     "name": "stdout",
     "output_type": "stream",
     "text": [
      "Percent of Students who pay off the loan in 10 years = 18.47 %\n"
     ]
    }
   ],
   "source": [
    "payoff_in_10yrs = sum(i <= 10 for i in payoff)/len(payoff)\n",
    "\n",
    "print('Percent of Students who pay off the loan in 10 years =', payoff_in_10yrs*100, '%')"
   ]
  },
  {
   "cell_type": "markdown",
   "metadata": {
    "collapsed": true
   },
   "source": [
    "# Exercise 4: Student Loan Reimbursement (2)"
   ]
  },
  {
   "cell_type": "code",
   "execution_count": 9,
   "metadata": {
    "collapsed": true
   },
   "outputs": [],
   "source": [
    "inc0_2 = 85000\n",
    "sd_2 = 0.15\n",
    "ln_inc_2 = np.zeros(inc_matrix)\n",
    "\n",
    "norm_errors_2 = np.random.normal(0, sd_2, inc_matrix)\n",
    "\n",
    "ln_inc_2[0,:] = np.log(inc0_2) + norm_errors_2[0,:]\n",
    "\n",
    "for yr in range (1,40):\n",
    "    ln_inc_2[yr,:] = (1-per)*(np.log(inc0_2) + gr*yr)+per*ln_inc_2[yr-1,:] + norm_errors_2[yr,:]\n",
    "    \n",
    "inc_2=np.exp(ln_inc_2)\n",
    "\n",
    "payoff_2 = []\n",
    "pay_2 = list(zip(*inc_2*0.1))\n",
    "\n",
    "for i in range(len(pay_2)):\n",
    "    for j in range(len(pay_2[i])):\n",
    "        a = np.cumsum(pay_2[i][:j+1])\n",
    "        if a[j]>ln:\n",
    "            payoff_2.append(j+1)\n",
    "            break"
   ]
  },
  {
   "cell_type": "code",
   "execution_count": 10,
   "metadata": {},
   "outputs": [
    {
     "name": "stdout",
     "output_type": "stream",
     "text": [
      "Percentage of students who pay off the loan in 10 years = 70.77 %\n"
     ]
    },
    {
     "data": {
      "image/png": "[encoded data removed]",
      "text/plain": [
       "<matplotlib.figure.Figure at 0x10fbea2e8>"
      ]
     },
     "metadata": {},
     "output_type": "display_data"
    }
   ],
   "source": [
    "plt.hist(payoff_2, bins=len(set(payoff_2)))\n",
    "plt.xticks(np.arange(min(payoff_2),max(payoff_2)))\n",
    "plt.xlabel('Years of loan reimbursement')\n",
    "plt.ylabel('Count')\n",
    "plt.title('Loan Reimbursement')\n",
    "\n",
    "payoff_10yrs_2 = sum(i <= 10 for i in payoff_2)/len(payoff_2)\n",
    "\n",
    "print('Percentage of students who pay off the loan in 10 years =', payoff_10yrs_2*100, '%')"
   ]
  }
 ],
 "metadata": {
  "kernelspec": {
   "display_name": "Python 3",
   "language": "python",
   "name": "python3"
  },
  "language_info": {
   "codemirror_mode": {
    "name": "ipython",
    "version": 3
   },
   "file_extension": ".py",
   "mimetype": "text/x-python",
   "name": "python",
   "nbconvert_exporter": "python",
   "pygments_lexer": "ipython3",
   "version": "3.6.1"
  }
 },
 "nbformat": 4,
 "nbformat_minor": 2
}
