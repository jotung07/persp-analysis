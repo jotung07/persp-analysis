{
 "cells": [
  {
   "cell_type": "markdown",
   "metadata": {},
   "source": [
    "## Assignment - Collaboration\n",
    "\n",
    "### Li Ruixue\n",
    "\n",
    "### Kaggle open call projects\n",
    "\n",
    "#### Part 2. \n",
    "My project of interest is Dog Breed Identification (https://www.kaggle.com/c/dog-breed-identification)\n",
    "The goal of the project is to train a deep neural network to identify the breed of a dog from an image of it.\n",
    "\n",
    "The organizer provides a training dataset and test datasets, each containing a subset of dog images from ImageNet with unique IDs as filenames. The project also provides a table specifying the breeds of dogs in the train image set, by linking each image ID to a breed name. \n",
    "\n",
    "To make a submission, I'll need to train a neural network with the training images provided, and apply the trained neural network on the test dataset to produce a classifier that assigns the likehoods of breeds to each image in the test dataset. I'll need to submit a table mapping each image ID in the test dataset into a likelihood matrix with each breed. The outcome will be measured by how accurate the predictions from the neural network match the actual breeds of the dogs in the test dataset. \n",
    "\n",
    "The main challenge of this project is that the train data size is quite limited and therefore it's difficult to make the predictions accurate. Therefore, previously trained models and external datasets are allowed to be used as a supplement. \n",
    "\n",
    "\n",
    "#### Part 3.\n",
    "\n",
    "I've chosen to explore the dataset of salaries by college, region, and academic major, available at: https://www.kaggle.com/wsj/college-salaries\n",
    "\n",
    "Three datasets are provided: \n",
    "salaries by degree\n",
    "salaries by college type (party, engineering, liberal arts, state)\n",
    "salaries by region\n",
    "\n",
    "For this task, I'll be exploring the salaries by college type dataset as I'm most interested in finding out something on this topic. I'd expect that students from engineering colleges will have highest earnings, but I'm not sure about the remaining three. \n",
    "\n",
    "I'll first load and have a preview of the data:"
   ]
  },
  {
   "cell_type": "code",
   "execution_count": 193,
   "metadata": {
    "collapsed": true
   },
   "outputs": [],
   "source": [
    "import pandas as pd\n",
    "import numpy as np"
   ]
  },
  {
   "cell_type": "code",
   "execution_count": 214,
   "metadata": {},
   "outputs": [
    {
     "data": {
      "text/html": [
       "<div>\n",
       "<style>\n",
       "    .dataframe thead tr:only-child th {\n",
       "        text-align: right;\n",
       "    }\n",
       "\n",
       "    .dataframe thead th {\n",
       "        text-align: left;\n",
       "    }\n",
       "\n",
       "    .dataframe tbody tr th {\n",
       "        vertical-align: top;\n",
       "    }\n",
       "</style>\n",
       "<table border=\"1\" class=\"dataframe\">\n",
       "  <thead>\n",
       "    <tr style=\"text-align: right;\">\n",
       "      <th></th>\n",
       "      <th>School Name</th>\n",
       "      <th>School Type</th>\n",
       "      <th>Starting Median Salary</th>\n",
       "      <th>Mid-Career Median Salary</th>\n",
       "      <th>Mid-Career 10th Percentile Salary</th>\n",
       "      <th>Mid-Career 25th Percentile Salary</th>\n",
       "      <th>Mid-Career 75th Percentile Salary</th>\n",
       "      <th>Mid-Career 90th Percentile Salary</th>\n",
       "    </tr>\n",
       "  </thead>\n",
       "  <tbody>\n",
       "    <tr>\n",
       "      <th>0</th>\n",
       "      <td>Massachusetts Institute of Technology (MIT)</td>\n",
       "      <td>Engineering</td>\n",
       "      <td>$72,200.00</td>\n",
       "      <td>$126,000.00</td>\n",
       "      <td>$76,800.00</td>\n",
       "      <td>$99,200.00</td>\n",
       "      <td>$168,000.00</td>\n",
       "      <td>$220,000.00</td>\n",
       "    </tr>\n",
       "    <tr>\n",
       "      <th>1</th>\n",
       "      <td>California Institute of Technology (CIT)</td>\n",
       "      <td>Engineering</td>\n",
       "      <td>$75,500.00</td>\n",
       "      <td>$123,000.00</td>\n",
       "      <td>NaN</td>\n",
       "      <td>$104,000.00</td>\n",
       "      <td>$161,000.00</td>\n",
       "      <td>NaN</td>\n",
       "    </tr>\n",
       "    <tr>\n",
       "      <th>2</th>\n",
       "      <td>Harvey Mudd College</td>\n",
       "      <td>Engineering</td>\n",
       "      <td>$71,800.00</td>\n",
       "      <td>$122,000.00</td>\n",
       "      <td>NaN</td>\n",
       "      <td>$96,000.00</td>\n",
       "      <td>$180,000.00</td>\n",
       "      <td>NaN</td>\n",
       "    </tr>\n",
       "    <tr>\n",
       "      <th>3</th>\n",
       "      <td>Polytechnic University of New York, Brooklyn</td>\n",
       "      <td>Engineering</td>\n",
       "      <td>$62,400.00</td>\n",
       "      <td>$114,000.00</td>\n",
       "      <td>$66,800.00</td>\n",
       "      <td>$94,300.00</td>\n",
       "      <td>$143,000.00</td>\n",
       "      <td>$190,000.00</td>\n",
       "    </tr>\n",
       "    <tr>\n",
       "      <th>4</th>\n",
       "      <td>Cooper Union</td>\n",
       "      <td>Engineering</td>\n",
       "      <td>$62,200.00</td>\n",
       "      <td>$114,000.00</td>\n",
       "      <td>NaN</td>\n",
       "      <td>$80,200.00</td>\n",
       "      <td>$142,000.00</td>\n",
       "      <td>NaN</td>\n",
       "    </tr>\n",
       "  </tbody>\n",
       "</table>\n",
       "</div>"
      ],
      "text/plain": [
       "                                    School Name  School Type  \\\n",
       "0   Massachusetts Institute of Technology (MIT)  Engineering   \n",
       "1      California Institute of Technology (CIT)  Engineering   \n",
       "2                           Harvey Mudd College  Engineering   \n",
       "3  Polytechnic University of New York, Brooklyn  Engineering   \n",
       "4                                  Cooper Union  Engineering   \n",
       "\n",
       "  Starting Median Salary Mid-Career Median Salary  \\\n",
       "0             $72,200.00              $126,000.00   \n",
       "1             $75,500.00              $123,000.00   \n",
       "2             $71,800.00              $122,000.00   \n",
       "3             $62,400.00              $114,000.00   \n",
       "4             $62,200.00              $114,000.00   \n",
       "\n",
       "  Mid-Career 10th Percentile Salary Mid-Career 25th Percentile Salary  \\\n",
       "0                        $76,800.00                        $99,200.00   \n",
       "1                               NaN                       $104,000.00   \n",
       "2                               NaN                        $96,000.00   \n",
       "3                        $66,800.00                        $94,300.00   \n",
       "4                               NaN                        $80,200.00   \n",
       "\n",
       "  Mid-Career 75th Percentile Salary Mid-Career 90th Percentile Salary  \n",
       "0                       $168,000.00                       $220,000.00  \n",
       "1                       $161,000.00                               NaN  \n",
       "2                       $180,000.00                               NaN  \n",
       "3                       $143,000.00                       $190,000.00  \n",
       "4                       $142,000.00                               NaN  "
      ]
     },
     "execution_count": 214,
     "metadata": {},
     "output_type": "execute_result"
    }
   ],
   "source": [
    "url=\"https://github.com/ruixue-li/persp-analysis/blob/master/students/li_ruixue/collaboration/data.csv?raw=true\"\n",
    "sal_by_college_type = pd.read_csv(url)\n",
    "sal_by_college_type.head()"
   ]
  },
  {
   "cell_type": "markdown",
   "metadata": {},
   "source": [
    "I've noticed that the dataset provides us with school names, school types, starting and mid-career median salary, and mid-career 10th, 25th, 75th, and 90th percentile salaries. I'd like to compare the average starting and mid-career median salaries of different school types. To do so, I'll find the average starting salaries for each college type, and plot a bar chart. "
   ]
  },
  {
   "cell_type": "code",
   "execution_count": 196,
   "metadata": {},
   "outputs": [
    {
     "data": {
      "text/html": [
       "<div>\n",
       "<style>\n",
       "    .dataframe thead tr:only-child th {\n",
       "        text-align: right;\n",
       "    }\n",
       "\n",
       "    .dataframe thead th {\n",
       "        text-align: left;\n",
       "    }\n",
       "\n",
       "    .dataframe tbody tr th {\n",
       "        vertical-align: top;\n",
       "    }\n",
       "</style>\n",
       "<table border=\"1\" class=\"dataframe\">\n",
       "  <thead>\n",
       "    <tr style=\"text-align: right;\">\n",
       "      <th></th>\n",
       "      <th>School Type</th>\n",
       "      <th>Starting Median Salary</th>\n",
       "      <th>Mid-Career Median Salary</th>\n",
       "    </tr>\n",
       "  </thead>\n",
       "  <tbody>\n",
       "    <tr>\n",
       "      <th>0</th>\n",
       "      <td>Engineering</td>\n",
       "      <td>$72,200.00</td>\n",
       "      <td>$126,000.00</td>\n",
       "    </tr>\n",
       "    <tr>\n",
       "      <th>1</th>\n",
       "      <td>Engineering</td>\n",
       "      <td>$75,500.00</td>\n",
       "      <td>$123,000.00</td>\n",
       "    </tr>\n",
       "    <tr>\n",
       "      <th>2</th>\n",
       "      <td>Engineering</td>\n",
       "      <td>$71,800.00</td>\n",
       "      <td>$122,000.00</td>\n",
       "    </tr>\n",
       "    <tr>\n",
       "      <th>3</th>\n",
       "      <td>Engineering</td>\n",
       "      <td>$62,400.00</td>\n",
       "      <td>$114,000.00</td>\n",
       "    </tr>\n",
       "    <tr>\n",
       "      <th>4</th>\n",
       "      <td>Engineering</td>\n",
       "      <td>$62,200.00</td>\n",
       "      <td>$114,000.00</td>\n",
       "    </tr>\n",
       "  </tbody>\n",
       "</table>\n",
       "</div>"
      ],
      "text/plain": [
       "   School Type Starting Median Salary Mid-Career Median Salary\n",
       "0  Engineering             $72,200.00              $126,000.00\n",
       "1  Engineering             $75,500.00              $123,000.00\n",
       "2  Engineering             $71,800.00              $122,000.00\n",
       "3  Engineering             $62,400.00              $114,000.00\n",
       "4  Engineering             $62,200.00              $114,000.00"
      ]
     },
     "execution_count": 196,
     "metadata": {},
     "output_type": "execute_result"
    }
   ],
   "source": [
    "df = sal_by_college_type.loc[:, ['School Type', 'Starting Median Salary', 'Mid-Career Median Salary']]\n",
    "df.head()"
   ]
  },
  {
   "cell_type": "code",
   "execution_count": 197,
   "metadata": {},
   "outputs": [
    {
     "data": {
      "text/html": [
       "<div>\n",
       "<style>\n",
       "    .dataframe thead tr:only-child th {\n",
       "        text-align: right;\n",
       "    }\n",
       "\n",
       "    .dataframe thead th {\n",
       "        text-align: left;\n",
       "    }\n",
       "\n",
       "    .dataframe tbody tr th {\n",
       "        vertical-align: top;\n",
       "    }\n",
       "</style>\n",
       "<table border=\"1\" class=\"dataframe\">\n",
       "  <thead>\n",
       "    <tr style=\"text-align: right;\">\n",
       "      <th></th>\n",
       "      <th>School Type</th>\n",
       "      <th>Starting Median Salary</th>\n",
       "      <th>Mid-Career Median Salary</th>\n",
       "    </tr>\n",
       "  </thead>\n",
       "  <tbody>\n",
       "    <tr>\n",
       "      <th>0</th>\n",
       "      <td>Engineering</td>\n",
       "      <td>72200.0</td>\n",
       "      <td>126000.0</td>\n",
       "    </tr>\n",
       "    <tr>\n",
       "      <th>1</th>\n",
       "      <td>Engineering</td>\n",
       "      <td>75500.0</td>\n",
       "      <td>123000.0</td>\n",
       "    </tr>\n",
       "    <tr>\n",
       "      <th>2</th>\n",
       "      <td>Engineering</td>\n",
       "      <td>71800.0</td>\n",
       "      <td>122000.0</td>\n",
       "    </tr>\n",
       "    <tr>\n",
       "      <th>3</th>\n",
       "      <td>Engineering</td>\n",
       "      <td>62400.0</td>\n",
       "      <td>114000.0</td>\n",
       "    </tr>\n",
       "    <tr>\n",
       "      <th>4</th>\n",
       "      <td>Engineering</td>\n",
       "      <td>62200.0</td>\n",
       "      <td>114000.0</td>\n",
       "    </tr>\n",
       "  </tbody>\n",
       "</table>\n",
       "</div>"
      ],
      "text/plain": [
       "   School Type  Starting Median Salary  Mid-Career Median Salary\n",
       "0  Engineering                 72200.0                  126000.0\n",
       "1  Engineering                 75500.0                  123000.0\n",
       "2  Engineering                 71800.0                  122000.0\n",
       "3  Engineering                 62400.0                  114000.0\n",
       "4  Engineering                 62200.0                  114000.0"
      ]
     },
     "execution_count": 197,
     "metadata": {},
     "output_type": "execute_result"
    }
   ],
   "source": [
    "df['Starting Median Salary'] = df['Starting Median Salary'].str.replace('$', '')\n",
    "df['Starting Median Salary'] = df['Starting Median Salary'].str.replace(',', '')\n",
    "df['Starting Median Salary'] = df['Starting Median Salary'].str.replace('.', '')\n",
    "\n",
    "df['Mid-Career Median Salary'] = df['Mid-Career Median Salary'].str.replace('$', '')\n",
    "df['Mid-Career Median Salary'] = df['Mid-Career Median Salary'].str.replace(',', '')\n",
    "df['Mid-Career Median Salary'] = df['Mid-Career Median Salary'].str.replace('.', '')\n",
    "\n",
    "df['Starting Median Salary'] = df['Starting Median Salary'].astype(str).astype(int)\n",
    "df['Mid-Career Median Salary'] = df['Mid-Career Median Salary'].astype(str).astype(int)\n",
    "\n",
    "df['Starting Median Salary'] /= 100\n",
    "df['Mid-Career Median Salary'] /= 100\n",
    "\n",
    "df.head()"
   ]
  },
  {
   "cell_type": "code",
   "execution_count": 198,
   "metadata": {},
   "outputs": [
    {
     "data": {
      "image/png": "[encoded data removed]",
      "text/plain": [
       "<matplotlib.figure.Figure at 0x11973a470>"
      ]
     },
     "metadata": {},
     "output_type": "display_data"
    }
   ],
   "source": [
    "df_grouped = df.groupby('School Type')['Starting Median Salary', 'Mid-Career Median Salary']\n",
    "mean = df_grouped.mean()\n",
    "std_err = df_grouped.std()\n",
    "fig, ax = plt.subplots()\n",
    "mean.plot.bar(yerr=std_err, ax=ax)\n",
    "plt.show()"
   ]
  },
  {
   "cell_type": "markdown",
   "metadata": {},
   "source": [
    "From the plot, it's clear that Ivy League school graduates have higher starting and mid-career median salary, and their advantage is even bigger as they progress into mid-career. Meanwhile, students from engineering schools have the largest standard deviation, meaning that they have higher variance in earnings."
   ]
  },
  {
   "cell_type": "markdown",
   "metadata": {},
   "source": [
    "### Improving a journal article"
   ]
  },
  {
   "cell_type": "markdown",
   "metadata": {},
   "source": [
    "The article I chose is *Anger Is More Influential than Joy: Sentiment Correlation in Weibo*, the full-text of which I have included in my submission. \n",
    "\n",
    "*Weibo* is a Twitter-like microblogging site in China, and it's tremendously popular in recent years. This journal article tried to find that whether there's a stronger sentiment correlation between a pair of users if they are more connected, i.e. whether users will have similar emotions if they interact more on the site. \n",
    "\n",
    "To study this effect, the researchers crawled 70 million tweets from Weibo, constructed an interaction network, and defined a metric to measure the strength of interaction between two users. They then labeled the sentiment of the tweets into four categories: anger, joy, disgust, and sadness, and calculated the correlations of sentiment between connected users. They found that anger has a surprisingly higher correlation than other emotions, indicating that users who interact with each other more are more likely to feel angry together. \n",
    "\n",
    "However, I think that the task of labeling the sentiment of the tweets in this research project could be improved by being formulated as a human computation project. \n",
    "\n",
    "Since the would like to avoid the intensive labor involved in creating training samples for more accurate machine learning algorithms of detecting text sentiment, they relied purely on emotions as a predictor for the sentiment of the tweets. More specifically, they labeled the sentiments of 95 most popular emotions, narrowed their dataset down to only those tweets with valid emotions, and only used those tweets for their analysis. The issues with this approach are obvious: \n",
    "1. The use of emotions is very flexible on social networking sites, and therefore the sentiment that those emotions express when they are viewed in isolation by the researchers could be very different from what they express when they are used in the actual text, especially when sarcasm is involved. A salient example would be that the continuous use of multiple smiley faces is very often associated with negative emotional messages like \"I've given up\", \"I don't care\", \"This is ridiculous\" in the Chinese internet world, which is far from what they originally represent, and therefore what they researchers would've labeled the data as - \"joy\". \n",
    "\n",
    "2. There were only 3.5 million out of 70 million tweets that contain valid emoticons, and intuitively, this is not likely to be a random sample since the profile of a typical heavy emoticon user would likely be different from a user who rarely uses emoticons. Therefore, by using emoticons as the only means of identifying sentiment, the sample is inevitably limited and biased. \n",
    "\n",
    "Introducing human computation component to the data collection process will greatly improve the accuracy of this study. Since tweets are very short, a native Chinese speaker would be able to identify and label its sentiment within a few seconds. Plus the fact that the number of internet users in China is huge and many of them are willing to work online at a very low rate, it would be possible to at least label a sufficiently large random sample from the tweets, if not all of them. Besides, humans are much better at detecting nuances in the language and are more likely to label the sentiments correctly. By increasing the accuracy of the data, the conclusion of this research will become much more convincing. In fact, I think that the researchers were also aware that this would be a better approach, but they might have faced some practical constraints and were unable to adopt it.\n",
    "\n"
   ]
  },
  {
   "cell_type": "markdown",
   "metadata": {},
   "source": [
    "### Amazon Mechanical Turk \n",
    "\n",
    "I completed an hour of work on another site microworkers.com and attached the screenshots."
   ]
  }
 ],
 "metadata": {
  "kernelspec": {
   "display_name": "Python 3",
   "language": "python",
   "name": "python3"
  },
  "language_info": {
   "codemirror_mode": {
    "name": "ipython",
    "version": 3
   },
   "file_extension": ".py",
   "mimetype": "text/x-python",
   "name": "python",
   "nbconvert_exporter": "python",
   "pygments_lexer": "ipython3",
   "version": "3.6.3"
  }
 },
 "nbformat": 4,
 "nbformat_minor": 2
}
